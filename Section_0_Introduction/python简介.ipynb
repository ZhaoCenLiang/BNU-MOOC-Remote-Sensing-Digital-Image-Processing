{
 "cells": [
  {
   "cell_type": "markdown",
   "metadata": {},
   "source": [
    "# python编程及其在地理科学中的应用\n",
    "* 本notebook文件用于课堂演示。\n",
    "* 请在conda prompt命令行终端中输入jupyter-notebook后，回车。之后在打开的浏览器中就可以看到notebook的界面了。\n",
    "* jupyter-notebook支持julia、R、python等多种编程语言，可以边记笔记边运行程序，是近年来新兴的开发与教学环境。\n",
    "* 本课程仅仅用于演示一些python的样例，其它功能请各位同学自由探索。"
   ]
  },
  {
   "cell_type": "code",
   "execution_count": 1,
   "metadata": {},
   "outputs": [
    {
     "data": {
      "text/plain": [
       "' 我也是多行注释。 '"
      ]
     },
     "execution_count": 1,
     "metadata": {},
     "output_type": "execute_result"
    }
   ],
   "source": [
    "# python语言的注释，单行注释使用#，多行注释使用连续三个单引号‘’‘\n",
    "# 我是单行注释\n",
    "''' 我是多行注释\n",
    "    注意写多行注释的时候，不要使用中文输入法，中文输入法打出来的引号不对。\n",
    "    多行注释常用于 （1）py文件的开头 （2）类定义的开头 （3）函数定义的开头，这样方便用help()查看。\n",
    "'''\n",
    "\"\"\" 我也是多行注释。 \"\"\""
   ]
  },
  {
   "cell_type": "markdown",
   "metadata": {},
   "source": [
    "## python的数据类型\n",
    "* 数值类型：整型、浮点型、布尔型、复数、字符串\n",
    "* 容器类型：列表、元组、字典、集合"
   ]
  },
  {
   "cell_type": "code",
   "execution_count": 2,
   "metadata": {},
   "outputs": [
    {
     "name": "stdout",
     "output_type": "stream",
     "text": [
      "7 <class 'int'> <class 'int'>\n",
      "7.0 <class 'float'> <class 'float'>\n"
     ]
    }
   ],
   "source": [
    "# python是面向对象的脚本语言，万物皆对象\n",
    "# 输入x=7，建立变量x，让其引用整数对象7\n",
    "x = 7\n",
    "print(x,type(x),type(7))\n",
    "x = 7.0\n",
    "print(x,type(x),type(7.0))"
   ]
  },
  {
   "cell_type": "code",
   "execution_count": 3,
   "metadata": {},
   "outputs": [
    {
     "name": "stdout",
     "output_type": "stream",
     "text": [
      "7 <class 'int'>\n"
     ]
    }
   ],
   "source": [
    "# 变量命名规则：英文字母、下划线、数字，3.x支持Unicode变量名（中文名），区分大小写，大写和小写是不同的变量名称\n",
    "我是变量名 = 7\n",
    "print(我是变量名,type(我是变量名))"
   ]
  },
  {
   "cell_type": "code",
   "execution_count": 4,
   "metadata": {},
   "outputs": [
    {
     "data": {
      "text/plain": [
       "['In',\n",
       " 'Out',\n",
       " '_',\n",
       " '_1',\n",
       " '__',\n",
       " '___',\n",
       " '__builtin__',\n",
       " '__builtins__',\n",
       " '__doc__',\n",
       " '__loader__',\n",
       " '__name__',\n",
       " '__package__',\n",
       " '__spec__',\n",
       " '_dh',\n",
       " '_i',\n",
       " '_i1',\n",
       " '_i2',\n",
       " '_i3',\n",
       " '_i4',\n",
       " '_ih',\n",
       " '_ii',\n",
       " '_iii',\n",
       " '_oh',\n",
       " 'exit',\n",
       " 'get_ipython',\n",
       " 'quit',\n",
       " 'x',\n",
       " '我是变量名']"
      ]
     },
     "execution_count": 4,
     "metadata": {},
     "output_type": "execute_result"
    }
   ],
   "source": [
    "# 函数dir()查看系统已定义名称, dir(’__buildin__’)查看内置名称\n",
    "dir()"
   ]
  },
  {
   "cell_type": "code",
   "execution_count": 5,
   "metadata": {},
   "outputs": [
    {
     "name": "stdout",
     "output_type": "stream",
     "text": [
      "7 <class 'int'>\n",
      "5 <class 'int'>\n",
      "237 <class 'int'>\n",
      "2748 <class 'int'>\n"
     ]
    }
   ],
   "source": [
    "# 整数 int\n",
    "# 用type()函数查看数据类型\n",
    "x = 7\n",
    "print(x,type(x))\n",
    "# 前面加上 0b/0B 0o/0O 0x/0X 表示二进制、八进制、十六进制整型常量\n",
    "x1 = 0b101\n",
    "x2 = 0o355\n",
    "x3 = 0xabc\n",
    "print(x1,type(x1))\n",
    "print(x2,type(x2))\n",
    "print(x3,type(x3))"
   ]
  },
  {
   "cell_type": "code",
   "execution_count": 6,
   "metadata": {},
   "outputs": [
    {
     "name": "stdout",
     "output_type": "stream",
     "text": [
      "True <class 'bool'>\n",
      "0 <class 'int'>\n"
     ]
    }
   ],
   "source": [
    "# 布尔类型 bool\n",
    "# 只有两个实例对象，注意首字母大写\n",
    "# 布尔型是整型的子类，True=1，False=0\n",
    "a = True\n",
    "print(a,type(a))\n",
    "# 布尔类型可以像整数一样进行运算，运算之后类型会发生相应的变化\n",
    "a -= 1\n",
    "print(a,type(a))"
   ]
  },
  {
   "cell_type": "code",
   "execution_count": 7,
   "metadata": {},
   "outputs": [
    {
     "name": "stdout",
     "output_type": "stream",
     "text": [
      "False\n",
      "True\n",
      "True\n",
      "False\n",
      "True\n",
      "True\n",
      "False\n"
     ]
    }
   ],
   "source": [
    "# 0和取值为空的数据类型（空字符串，空字典，空列表，空numpy array）以及None类型的布尔值都等于False，其它均为True\n",
    "# 用bool()函数查看对象的布尔值\n",
    "print(bool([]))\n",
    "print(bool([[]]))\n",
    "print(bool([1,2,3]))\n",
    "print(bool(0))\n",
    "print(bool(1))\n",
    "print(bool(2))\n",
    "print(bool(None))"
   ]
  },
  {
   "cell_type": "code",
   "execution_count": 8,
   "metadata": {},
   "outputs": [
    {
     "name": "stdout",
     "output_type": "stream",
     "text": [
      "0.7 <class 'float'>\n",
      "1.3333333333333333 <class 'float'>\n",
      "2.0 <class 'float'>\n"
     ]
    }
   ],
   "source": [
    "# 浮点数 float\n",
    "a = 0.7\n",
    "print(a,type(a))\n",
    "# python 3.x 中，两个整数相除返回浮点数，在python2.x中，两个整数相除返回整数\n",
    "a = 4/3\n",
    "print(a,type(a))\n",
    "a = 4/2\n",
    "print(a,type(a))"
   ]
  },
  {
   "cell_type": "code",
   "execution_count": 9,
   "metadata": {},
   "outputs": [
    {
     "name": "stdout",
     "output_type": "stream",
     "text": [
      "(2+5j) <class 'complex'>\n",
      "(2+5j) <class 'complex'>\n",
      "True\n"
     ]
    }
   ],
   "source": [
    "# 复数 complex\n",
    "# Python中虚数单位用j和J表示\n",
    "z1 = complex(2,5)\n",
    "z2 = 2+5j\n",
    "print(z1,type(z1))\n",
    "print(z2,type(z2))\n",
    "print(z1==z2)"
   ]
  },
  {
   "cell_type": "code",
   "execution_count": 10,
   "metadata": {},
   "outputs": [
    {
     "name": "stdout",
     "output_type": "stream",
     "text": [
      "I'm a string in English. <class 'str'>\n",
      "我是中文字符串 <class 'str'>\n",
      "字符串可以用单引号也可以用双引号 <class 'str'>\n",
      "a <class 'str'>\n",
      "我 中文字 串\n"
     ]
    }
   ],
   "source": [
    "# 字符串 str\n",
    "# 由字符(Character)组成的有序集合对象\n",
    "# 按从左到右依次排列\n",
    "# 按索引访问（类似数组）\n",
    "s1 = 'I\\'m a string in English.'\n",
    "s2 = '我是中文字符串'\n",
    "s3 = \"字符串可以用单引号也可以用双引号\"\n",
    "print(s1,type(s1))\n",
    "print(s2,type(s2))\n",
    "print(s3,type(s3))\n",
    "# Python并没有字符(Character)这个类型，长度为一的字符串也是字符串\n",
    "s4 = 'a'\n",
    "print(s4,type(s4))\n",
    "# 通过索引值访问\n",
    "print(s2[0],s2[2:5],s2[-1])"
   ]
  },
  {
   "cell_type": "code",
   "execution_count": 11,
   "metadata": {
    "scrolled": true
   },
   "outputs": [
    {
     "name": "stdout",
     "output_type": "stream",
     "text": [
      "[1, 2, 3] <class 'list'> 3\n",
      "[[2.4, 3.5, 1.6], [3.14, 22.33], 'hahaha'] <class 'list'> 3\n",
      "3 1 3\n"
     ]
    }
   ],
   "source": [
    "# 列表 list\n",
    "# 有序的容器类型，列表内可以放入任何类型的对象：字符串、其它列表、字典、函数… 不同类型的对象可以“混搭”\n",
    "# 创建方式：方括号包住内含对象，逗号分隔\n",
    "# 用len()查看长度\n",
    "A = [1,2,3]\n",
    "B = [[2.4, 3.5, 1.6],[3.14, 22.33],'hahaha']\n",
    "print(A,type(A),len(A))\n",
    "print(B,type(B),len(B))\n",
    "# 引用方式：偏移量\n",
    "# 可正可负：A[0] A[-2] A[1]\n",
    "# 有效范围：0到n-1 -1到-n (A[3] A[4]都会报错)\n",
    "n = len(A)\n",
    "print(n, A[-n],A[n-1])"
   ]
  },
  {
   "cell_type": "code",
   "execution_count": 12,
   "metadata": {},
   "outputs": [
    {
     "name": "stdout",
     "output_type": "stream",
     "text": [
      "[1, 2, 5]\n",
      "[1, 2, 5]\n"
     ]
    }
   ],
   "source": [
    "# 列表相当于对其中元素的“引用”\n",
    "A = [1,2,3]\n",
    "B = A\n",
    "A[2] = 5\n",
    "print(A)\n",
    "print(B)\n",
    "# B = A 表示A和B指向同一个列表。A指向的列表变化了，B也会变化，因为他俩实际上指向同一块内存"
   ]
  },
  {
   "cell_type": "code",
   "execution_count": 13,
   "metadata": {},
   "outputs": [
    {
     "name": "stdout",
     "output_type": "stream",
     "text": [
      "[1, 2, 5]\n",
      "[1, 2, 3]\n"
     ]
    }
   ],
   "source": [
    "# 复制需要用到copy库\n",
    "import copy\n",
    "A = [1,2,3]\n",
    "B = copy.copy(A)\n",
    "A[2] = 5\n",
    "print(A)\n",
    "print(B)"
   ]
  },
  {
   "cell_type": "code",
   "execution_count": 14,
   "metadata": {},
   "outputs": [
    {
     "name": "stdout",
     "output_type": "stream",
     "text": [
      "[2.45, [1024, 22.33], 'hahaha']\n",
      "[[2.4, 3.5, 1.6], [1024, 22.33], 'hahaha']\n",
      "[[2.4, 3.5, 1.6], [3.14, 22.33], 'hahaha']\n"
     ]
    }
   ],
   "source": [
    "# copy.copy只复制第一层，完全复制需要用deepcopy\n",
    "A = [[2.4, 3.5, 1.6],[3.14, 22.33],'hahaha']\n",
    "B = copy.copy(A)\n",
    "C = copy.deepcopy(A)\n",
    "A[0] = 2.45\n",
    "A[1][0] = 1024\n",
    "print(A)\n",
    "print(B)\n",
    "print(C)"
   ]
  },
  {
   "cell_type": "code",
   "execution_count": 15,
   "metadata": {},
   "outputs": [
    {
     "name": "stdout",
     "output_type": "stream",
     "text": [
      "(1, 2, 3) <class 'tuple'>\n",
      "1\n"
     ]
    },
    {
     "ename": "TypeError",
     "evalue": "'tuple' object does not support item assignment",
     "output_type": "error",
     "traceback": [
      "\u001b[1;31m---------------------------------------------------------------------------\u001b[0m",
      "\u001b[1;31mTypeError\u001b[0m                                 Traceback (most recent call last)",
      "\u001b[1;32m~\\AppData\\Local\\Temp/ipykernel_23216/1999645360.py\u001b[0m in \u001b[0;36m<module>\u001b[1;34m\u001b[0m\n\u001b[0;32m      6\u001b[0m \u001b[1;31m# 元组一旦建立，就不能更改，可以认为是只读的列表\u001b[0m\u001b[1;33m\u001b[0m\u001b[1;33m\u001b[0m\u001b[1;33m\u001b[0m\u001b[0m\n\u001b[0;32m      7\u001b[0m \u001b[1;31m# Python用元组来实现函数的多重返回值\u001b[0m\u001b[1;33m\u001b[0m\u001b[1;33m\u001b[0m\u001b[1;33m\u001b[0m\u001b[0m\n\u001b[1;32m----> 8\u001b[1;33m \u001b[0mA\u001b[0m\u001b[1;33m[\u001b[0m\u001b[1;36m0\u001b[0m\u001b[1;33m]\u001b[0m \u001b[1;33m=\u001b[0m \u001b[1;36m2\u001b[0m\u001b[1;33m\u001b[0m\u001b[1;33m\u001b[0m\u001b[0m\n\u001b[0m",
      "\u001b[1;31mTypeError\u001b[0m: 'tuple' object does not support item assignment"
     ]
    }
   ],
   "source": [
    "# 元组 tuple\n",
    "# 也是一种有序数据类型，和列表类似，也能存储任意类型的对象，能混搭，用[]访问\n",
    "A = (1,2,3)\n",
    "print(A,type(A))\n",
    "print(A[0])\n",
    "# 元组一旦建立，就不能更改，可以认为是只读的列表\n",
    "# Python用元组来实现函数的多重返回值\n",
    "A[0] = 2"
   ]
  },
  {
   "cell_type": "code",
   "execution_count": 16,
   "metadata": {},
   "outputs": [
    {
     "name": "stdout",
     "output_type": "stream",
     "text": [
      "80\n",
      "78\n",
      "68.5\n"
     ]
    }
   ],
   "source": [
    "# 字典 dict\n",
    "# 一种映射型数据结构（mapping），具有 键：值 （key：value）配对关系\n",
    "# 可以混搭各种类型的对象，可动态增删改\n",
    "# 字典类型相当于“每个元素都有名字的列表”，具备自描述性\n",
    "# 字典内部元素是没有顺序的\n",
    "成绩单 = {'张三': 80, '李四': 92, 'Alice': 85, 'Bob': 78, 2233: 68.5}\n",
    "# 靠 键-值 关联来访问字典的内容\n",
    "print(成绩单['张三'])\n",
    "print(成绩单['Bob'])\n",
    "print(成绩单[2233])"
   ]
  },
  {
   "cell_type": "code",
   "execution_count": 17,
   "metadata": {},
   "outputs": [
    {
     "name": "stdout",
     "output_type": "stream",
     "text": [
      "{'wangermazi', 'zhangsan', 'lisi'}\n",
      "{1, 2, 3}\n",
      "<class 'set'>\n",
      "<class 'dict'>\n"
     ]
    }
   ],
   "source": [
    "# 集合 set\n",
    "# 用来记录无顺序、不可变对象是否存在其中\n",
    "# 集合的元素不得重复，可以混搭\n",
    "# 创建集合:\n",
    "A = {'zhangsan','lisi','wangermazi'}\n",
    "B = set([1,2,3])\n",
    "print(A)\n",
    "print(B)\n",
    "# 空集合只能用set()创建，{}创建的是空字典\n",
    "C = set()\n",
    "D = {}\n",
    "print(type(C))\n",
    "print(type(D))"
   ]
  },
  {
   "cell_type": "code",
   "execution_count": 18,
   "metadata": {},
   "outputs": [
    {
     "name": "stdout",
     "output_type": "stream",
     "text": [
      "True\n"
     ]
    }
   ],
   "source": [
    "# 检测两个列表中的元素是否相同\n",
    "L1 = [1,2,3]\n",
    "L2 = [1,2,3]\n",
    "print(set(L1)==set(L2))"
   ]
  },
  {
   "cell_type": "markdown",
   "metadata": {},
   "source": [
    "## 常用运算符"
   ]
  },
  {
   "cell_type": "code",
   "execution_count": 19,
   "metadata": {},
   "outputs": [
    {
     "name": "stdout",
     "output_type": "stream",
     "text": [
      "3+2 = 5\n",
      "3-2 = 1\n",
      "3*2 = 6\n",
      "3**2 = 9\n",
      "3/2 = 1.5\n",
      "3//2 = 1\n",
      "3%2 = 1\n"
     ]
    }
   ],
   "source": [
    "# 算术运算符\n",
    "# 加\n",
    "print('3+2 =', 3+2)\n",
    "# 减\n",
    "print('3-2 =', 3-2)\n",
    "# 乘\n",
    "print('3*2 =', 3*2)\n",
    "# 幂\n",
    "print('3**2 =', 3**2)\n",
    "# 除\n",
    "print('3/2 =', 3/2)\n",
    "# 整除，返回商的整数\n",
    "print('3//2 =', 3//2)\n",
    "# 取模，返回余数\n",
    "print('3%2 =', 3%2)"
   ]
  },
  {
   "cell_type": "code",
   "execution_count": 20,
   "metadata": {},
   "outputs": [
    {
     "name": "stdout",
     "output_type": "stream",
     "text": [
      "a =  2\n",
      "b =  1\n",
      "-1\n"
     ]
    }
   ],
   "source": [
    "# 赋值运算符\n",
    "# 赋值\n",
    "a = 2\n",
    "b = 1\n",
    "print('a = ', a)\n",
    "print('b = ', b)\n",
    "# 加法赋值\n",
    "# b += a\n",
    "# 减法赋值\n",
    "b -= a\n",
    "# 乘法赋值\n",
    "# b *= a\n",
    "# 乘幂赋值\n",
    "# b **= a\n",
    "# 除法赋值\n",
    "# b /= a\n",
    "# 整除赋值\n",
    "# b //= a\n",
    "# 取模赋值\n",
    "# b %= a\n",
    "print(b)"
   ]
  },
  {
   "cell_type": "code",
   "execution_count": 21,
   "metadata": {},
   "outputs": [
    {
     "name": "stdout",
     "output_type": "stream",
     "text": [
      "True\n",
      "True\n",
      "False\n",
      "True\n",
      "False\n",
      "True\n"
     ]
    }
   ],
   "source": [
    "# 比较运算符\n",
    "a = 2\n",
    "b = 1\n",
    "# 相等判断\n",
    "print(a==2)\n",
    "# 不等于\n",
    "print(b!=a)\n",
    "# 大于\n",
    "print(b>a)\n",
    "# 小于\n",
    "print(b<a)\n",
    "# 大于等于\n",
    "print(b>=a)\n",
    "# 小于等于\n",
    "print(b<=a)"
   ]
  },
  {
   "cell_type": "code",
   "execution_count": 22,
   "metadata": {},
   "outputs": [
    {
     "name": "stdout",
     "output_type": "stream",
     "text": [
      "2.5 2198009447376\n",
      "2.5 2198009449264\n",
      "True\n",
      "False\n"
     ]
    }
   ],
   "source": [
    "a = 2.5\n",
    "b = 5/2\n",
    "print(a,id(a))\n",
    "print(b,id(b))\n",
    "print(a==b)\n",
    "print(id(a)==id(b))"
   ]
  },
  {
   "cell_type": "code",
   "execution_count": 23,
   "metadata": {},
   "outputs": [
    {
     "name": "stdout",
     "output_type": "stream",
     "text": [
      "False\n",
      "True\n",
      "False\n"
     ]
    }
   ],
   "source": [
    "# 逻辑运算符\n",
    "A = True\n",
    "B = False\n",
    "print(A and B)\n",
    "print(A or B)\n",
    "print(not A)"
   ]
  },
  {
   "cell_type": "code",
   "execution_count": 24,
   "metadata": {},
   "outputs": [
    {
     "name": "stdout",
     "output_type": "stream",
     "text": [
      "False\n",
      "True\n",
      "2198009712584\n",
      "2198009344520\n"
     ]
    }
   ],
   "source": [
    "# 身份运算符\n",
    "# 身份运算符主要用于比较两个对象的id是否相等，实际上是取出对象的id值（内存地址）进行比较\n",
    "# is 和 == 不同， is 比较对象的身份（地址），==比较对象的值（内容）\n",
    "A = [1,2,3]\n",
    "B = [1,2,3]\n",
    "print(A is B)\n",
    "print(A == B)\n",
    "print(id(A))\n",
    "print(id(B))"
   ]
  },
  {
   "cell_type": "code",
   "execution_count": 25,
   "metadata": {},
   "outputs": [
    {
     "name": "stdout",
     "output_type": "stream",
     "text": [
      "True\n",
      "True\n",
      "True\n"
     ]
    }
   ],
   "source": [
    "# 成员运算符\n",
    "# 主要用于比较对象A是否存在于容器B中\n",
    "A = 2\n",
    "B = [4,3,2]\n",
    "C = {2,4,3}\n",
    "D = (1,3,2)\n",
    "print(A in B)\n",
    "print(A in C)\n",
    "print(A in D) "
   ]
  },
  {
   "cell_type": "markdown",
   "metadata": {},
   "source": [
    "## 常用内置函数"
   ]
  },
  {
   "cell_type": "code",
   "execution_count": 26,
   "metadata": {},
   "outputs": [
    {
     "name": "stdout",
     "output_type": "stream",
     "text": [
      "Help on built-in function sum in module builtins:\n",
      "\n",
      "sum(iterable, start=0, /)\n",
      "    Return the sum of a 'start' value (default: 0) plus an iterable of numbers\n",
      "    \n",
      "    When the iterable is empty, return the start value.\n",
      "    This function is intended specifically for use with numeric values and may\n",
      "    reject non-numeric types.\n",
      "\n",
      "6\n",
      "11\n"
     ]
    }
   ],
   "source": [
    "# 所有元素相加 \n",
    "help(sum)\n",
    "print(sum([1,2,3]))\n",
    "print(sum([1,2,3],5))"
   ]
  },
  {
   "cell_type": "code",
   "execution_count": 28,
   "metadata": {},
   "outputs": [
    {
     "name": "stdout",
     "output_type": "stream",
     "text": [
      "Help on built-in function pow in module builtins:\n",
      "\n",
      "pow(x, y, z=None, /)\n",
      "    Equivalent to x**y (with two arguments) or x**y % z (with three arguments)\n",
      "    \n",
      "    Some types, such as ints, are able to use a more efficient algorithm when\n",
      "    invoked using the three argument form.\n",
      "\n",
      "36\n",
      "36\n",
      "1\n"
     ]
    }
   ],
   "source": [
    "# 乘幂\n",
    "help(pow)\n",
    "print(6**2)\n",
    "print(pow(6,2))\n",
    "print(pow(6,2,5))"
   ]
  },
  {
   "cell_type": "code",
   "execution_count": 29,
   "metadata": {},
   "outputs": [
    {
     "name": "stdout",
     "output_type": "stream",
     "text": [
      "Help on built-in function divmod in module builtins:\n",
      "\n",
      "divmod(x, y, /)\n",
      "    Return the tuple (x//y, x%y).  Invariant: div*y + mod == x.\n",
      "\n",
      "(3, 0)\n"
     ]
    }
   ],
   "source": [
    "# 带余除法\n",
    "help(divmod)\n",
    "print(divmod(6,2))"
   ]
  },
  {
   "cell_type": "code",
   "execution_count": 30,
   "metadata": {},
   "outputs": [
    {
     "name": "stdout",
     "output_type": "stream",
     "text": [
      "Help on built-in function abs in module builtins:\n",
      "\n",
      "abs(x, /)\n",
      "    Return the absolute value of the argument.\n",
      "\n",
      "2.56\n"
     ]
    }
   ],
   "source": [
    "# 绝对值\n",
    "help(abs)\n",
    "print(abs(-2.56))"
   ]
  },
  {
   "cell_type": "code",
   "execution_count": 31,
   "metadata": {},
   "outputs": [
    {
     "name": "stdout",
     "output_type": "stream",
     "text": [
      "Help on built-in function all in module builtins:\n",
      "\n",
      "all(iterable, /)\n",
      "    Return True if bool(x) is True for all values x in the iterable.\n",
      "    \n",
      "    If the iterable is empty, return True.\n",
      "\n",
      "True\n"
     ]
    }
   ],
   "source": [
    "# 判断所有元素是否为True，相当于多重的and\n",
    "help(all)\n",
    "print(all([3>2,6<9]))"
   ]
  },
  {
   "cell_type": "code",
   "execution_count": 32,
   "metadata": {},
   "outputs": [
    {
     "name": "stdout",
     "output_type": "stream",
     "text": [
      "Help on built-in function any in module builtins:\n",
      "\n",
      "any(iterable, /)\n",
      "    Return True if bool(x) is True for any x in the iterable.\n",
      "    \n",
      "    If the iterable is empty, return False.\n",
      "\n",
      "True\n"
     ]
    }
   ],
   "source": [
    "# 任意一个元素是否为True，相当于多重的or\n",
    "help(any)\n",
    "print(any([3>2,6<9]))"
   ]
  },
  {
   "cell_type": "code",
   "execution_count": 33,
   "metadata": {},
   "outputs": [
    {
     "name": "stdout",
     "output_type": "stream",
     "text": [
      "Help on built-in function max in module builtins:\n",
      "\n",
      "max(...)\n",
      "    max(iterable, *[, default=obj, key=func]) -> value\n",
      "    max(arg1, arg2, *args, *[, key=func]) -> value\n",
      "    \n",
      "    With a single iterable argument, return its biggest item. The\n",
      "    default keyword-only argument specifies an object to return if\n",
      "    the provided iterable is empty.\n",
      "    With two or more arguments, return the largest argument.\n",
      "\n",
      "Help on built-in function min in module builtins:\n",
      "\n",
      "min(...)\n",
      "    min(iterable, *[, default=obj, key=func]) -> value\n",
      "    min(arg1, arg2, *args, *[, key=func]) -> value\n",
      "    \n",
      "    With a single iterable argument, return its smallest item. The\n",
      "    default keyword-only argument specifies an object to return if\n",
      "    the provided iterable is empty.\n",
      "    With two or more arguments, return the smallest argument.\n",
      "\n",
      "5\n",
      "1\n"
     ]
    }
   ],
   "source": [
    "# 最大值和最小值\n",
    "help(max)\n",
    "help(min)\n",
    "print(max([1,2,5,3]))\n",
    "print(min([1,2,5,3]))"
   ]
  },
  {
   "cell_type": "code",
   "execution_count": 34,
   "metadata": {},
   "outputs": [
    {
     "name": "stdout",
     "output_type": "stream",
     "text": [
      "Help on built-in function round in module builtins:\n",
      "\n",
      "round(number, ndigits=None)\n",
      "    Round a number to a given precision in decimal digits.\n",
      "    \n",
      "    The return value is an integer if ndigits is omitted or None.  Otherwise\n",
      "    the return value has the same type as the number.  ndigits may be negative.\n",
      "\n",
      "3.14159\n"
     ]
    }
   ],
   "source": [
    "# 四舍五入(到小数点后第n位)\n",
    "help(round)\n",
    "print(round(3.1415926,5))"
   ]
  },
  {
   "cell_type": "markdown",
   "metadata": {},
   "source": [
    "## 流程控制\n",
    "* 赋值\n",
    "* 条件\n",
    "* 循环"
   ]
  },
  {
   "cell_type": "code",
   "execution_count": 35,
   "metadata": {},
   "outputs": [
    {
     "name": "stdout",
     "output_type": "stream",
     "text": [
      "[1, 2, 5, 7, 3]\n",
      "[1, 2, 5, 7, 3]\n",
      "[1, 2, 5, 7, 3]\n",
      "True\n",
      "2198009665096\n",
      "2198009665096\n"
     ]
    }
   ],
   "source": [
    "# Python中，赋值等于引用，赋值不是复制\n",
    "# 多重赋值，同一个值同时赋给多个变量：\n",
    "A=B=C=[1,2,5,7,3]\n",
    "print(A)\n",
    "print(B)\n",
    "print(C)\n",
    "print(A is B)\n",
    "print(id(A))\n",
    "print(id(B))"
   ]
  },
  {
   "cell_type": "code",
   "execution_count": 36,
   "metadata": {},
   "outputs": [
    {
     "name": "stdout",
     "output_type": "stream",
     "text": [
      "1\n",
      "2\n",
      "3\n"
     ]
    }
   ],
   "source": [
    "# 多元赋值，多个值分别分配给多个变量，隐含的使用了元组，和A=1,2,3是不一样的！\n",
    "A,B,C=1,2,3\n",
    "print(A)\n",
    "print(B)\n",
    "print(C)"
   ]
  },
  {
   "cell_type": "code",
   "execution_count": 37,
   "metadata": {},
   "outputs": [
    {
     "name": "stdout",
     "output_type": "stream",
     "text": [
      "a = 1\n",
      "b = 2\n",
      "a < b\n"
     ]
    }
   ],
   "source": [
    "# if条件\n",
    "# 注意冒号！ 注意缩进！\n",
    "a, b = 1, 2\n",
    "print('a =',a)\n",
    "print('b =',b)\n",
    "if a > b:\n",
    "    print('a > b')\n",
    "elif a == b:\n",
    "    print('a == b')\n",
    "else:\n",
    "    print('a < b')"
   ]
  },
  {
   "cell_type": "code",
   "execution_count": 38,
   "metadata": {},
   "outputs": [
    {
     "name": "stdout",
     "output_type": "stream",
     "text": [
      "a <= b\n"
     ]
    }
   ],
   "source": [
    "# 一行流\n",
    "# a = X if condition else Z\n",
    "# condition为True时，赋值为X，否则赋值为Z\n",
    "a, b = 1, 2\n",
    "c = 'a > b' if a > b else 'a <= b'\n",
    "print(c)"
   ]
  },
  {
   "cell_type": "code",
   "execution_count": 39,
   "metadata": {},
   "outputs": [
    {
     "name": "stdout",
     "output_type": "stream",
     "text": [
      "Help on class range in module builtins:\n",
      "\n",
      "class range(object)\n",
      " |  range(stop) -> range object\n",
      " |  range(start, stop[, step]) -> range object\n",
      " |  \n",
      " |  Return an object that produces a sequence of integers from start (inclusive)\n",
      " |  to stop (exclusive) by step.  range(i, j) produces i, i+1, i+2, ..., j-1.\n",
      " |  start defaults to 0, and stop is omitted!  range(4) produces 0, 1, 2, 3.\n",
      " |  These are exactly the valid indices for a list of 4 elements.\n",
      " |  When step is given, it specifies the increment (or decrement).\n",
      " |  \n",
      " |  Methods defined here:\n",
      " |  \n",
      " |  __bool__(self, /)\n",
      " |      self != 0\n",
      " |  \n",
      " |  __contains__(self, key, /)\n",
      " |      Return key in self.\n",
      " |  \n",
      " |  __eq__(self, value, /)\n",
      " |      Return self==value.\n",
      " |  \n",
      " |  __ge__(self, value, /)\n",
      " |      Return self>=value.\n",
      " |  \n",
      " |  __getattribute__(self, name, /)\n",
      " |      Return getattr(self, name).\n",
      " |  \n",
      " |  __getitem__(self, key, /)\n",
      " |      Return self[key].\n",
      " |  \n",
      " |  __gt__(self, value, /)\n",
      " |      Return self>value.\n",
      " |  \n",
      " |  __hash__(self, /)\n",
      " |      Return hash(self).\n",
      " |  \n",
      " |  __iter__(self, /)\n",
      " |      Implement iter(self).\n",
      " |  \n",
      " |  __le__(self, value, /)\n",
      " |      Return self<=value.\n",
      " |  \n",
      " |  __len__(self, /)\n",
      " |      Return len(self).\n",
      " |  \n",
      " |  __lt__(self, value, /)\n",
      " |      Return self<value.\n",
      " |  \n",
      " |  __ne__(self, value, /)\n",
      " |      Return self!=value.\n",
      " |  \n",
      " |  __reduce__(...)\n",
      " |      Helper for pickle.\n",
      " |  \n",
      " |  __repr__(self, /)\n",
      " |      Return repr(self).\n",
      " |  \n",
      " |  __reversed__(...)\n",
      " |      Return a reverse iterator.\n",
      " |  \n",
      " |  count(...)\n",
      " |      rangeobject.count(value) -> integer -- return number of occurrences of value\n",
      " |  \n",
      " |  index(...)\n",
      " |      rangeobject.index(value) -> integer -- return index of value.\n",
      " |      Raise ValueError if the value is not present.\n",
      " |  \n",
      " |  ----------------------------------------------------------------------\n",
      " |  Static methods defined here:\n",
      " |  \n",
      " |  __new__(*args, **kwargs) from builtins.type\n",
      " |      Create and return a new object.  See help(type) for accurate signature.\n",
      " |  \n",
      " |  ----------------------------------------------------------------------\n",
      " |  Data descriptors defined here:\n",
      " |  \n",
      " |  start\n",
      " |  \n",
      " |  step\n",
      " |  \n",
      " |  stop\n",
      "\n",
      "10\n",
      "8\n",
      "6\n",
      "4\n",
      "2\n"
     ]
    }
   ],
   "source": [
    "# for循环\n",
    "# 注意冒号！ 注意缩进！\n",
    "help(range)\n",
    "for i in range(10,0,-2):\n",
    "    print(i)"
   ]
  },
  {
   "cell_type": "code",
   "execution_count": 40,
   "metadata": {},
   "outputs": [
    {
     "name": "stdout",
     "output_type": "stream",
     "text": [
      "2\n",
      "4\n",
      "5\n",
      "6\n"
     ]
    }
   ],
   "source": [
    "for i in [2,4,5,6]:\n",
    "    print(i)"
   ]
  },
  {
   "cell_type": "code",
   "execution_count": 41,
   "metadata": {},
   "outputs": [
    {
     "name": "stdout",
     "output_type": "stream",
     "text": [
      "0 Alice\n",
      "1 Bob\n",
      "2 Clark\n"
     ]
    }
   ],
   "source": [
    "# 在循环体内可以同时使用索引值idx和元素item\n",
    "for idx,item in enumerate(['Alice','Bob','Clark']):\n",
    "    print(idx, item)"
   ]
  },
  {
   "cell_type": "code",
   "execution_count": 42,
   "metadata": {},
   "outputs": [
    {
     "data": {
      "text/plain": [
       "[1, 4, 6]"
      ]
     },
     "execution_count": 42,
     "metadata": {},
     "output_type": "execute_result"
    }
   ],
   "source": [
    "# 一行流\n",
    "# 找出list1中所有等于10的元素，输出它们的索引值\n",
    "list1 = [2,10,34,3,10,20,10]\n",
    "[i for i in range(len(list1)) if list1[i]==10]"
   ]
  },
  {
   "cell_type": "code",
   "execution_count": 43,
   "metadata": {},
   "outputs": [
    {
     "name": "stdout",
     "output_type": "stream",
     "text": [
      "[['a', 2], ['a', 3], ['b', 2], ['b', 3], ['c', 2], ['c', 3]]\n"
     ]
    }
   ],
   "source": [
    "# 多重循环\n",
    "x = ['a','b','c']\n",
    "y = [2,3]\n",
    "z = []\n",
    "for i in x:\n",
    "    for j in y:\n",
    "        z.append([i,j])\n",
    "print(z)"
   ]
  },
  {
   "cell_type": "code",
   "execution_count": 44,
   "metadata": {},
   "outputs": [
    {
     "data": {
      "text/plain": [
       "[['a', 2], ['a', 3], ['b', 2], ['b', 3], ['c', 2], ['c', 3]]"
      ]
     },
     "execution_count": 44,
     "metadata": {},
     "output_type": "execute_result"
    }
   ],
   "source": [
    "# 一行中的二重循环\n",
    "[[i,j] for i in x for j in y]"
   ]
  },
  {
   "cell_type": "code",
   "execution_count": 45,
   "metadata": {},
   "outputs": [
    {
     "name": "stdout",
     "output_type": "stream",
     "text": [
      "0\n",
      "1\n",
      "2\n",
      "3\n",
      "4\n"
     ]
    }
   ],
   "source": [
    "# while循环\n",
    "i = 0\n",
    "while i < 5:\n",
    "    print(i)\n",
    "    i += 1"
   ]
  },
  {
   "cell_type": "code",
   "execution_count": 46,
   "metadata": {},
   "outputs": [
    {
     "name": "stdout",
     "output_type": "stream",
     "text": [
      "0 0\n",
      "0 1\n",
      "0 2\n",
      "0 3\n",
      "break!\n",
      "1 0\n",
      "1 1\n",
      "1 2\n",
      "1 3\n",
      "break!\n",
      "2 0\n",
      "2 1\n",
      "2 2\n",
      "2 3\n",
      "break!\n"
     ]
    }
   ],
   "source": [
    "# 循环控制语句\n",
    "# break 跳出当前循环\n",
    "for j in range(3):\n",
    "    for i in range(5):\n",
    "        print(j,i)\n",
    "        if i == 3:\n",
    "            print('break!')\n",
    "            break"
   ]
  },
  {
   "cell_type": "code",
   "execution_count": 47,
   "metadata": {},
   "outputs": [
    {
     "name": "stdout",
     "output_type": "stream",
     "text": [
      "0\n",
      "Do something...\n",
      "Do somethine else...\n",
      "1\n",
      "Do something...\n",
      "Do somethine else...\n",
      "2\n",
      "Do something...\n",
      "Do somethine else...\n",
      "3\n",
      "Do something...\n",
      "continue!\n",
      "4\n",
      "Do something...\n",
      "Do somethine else...\n"
     ]
    }
   ],
   "source": [
    "# 循环控制语句\n",
    "# continue 忽略循环后面的部分，开始下一轮循环\n",
    "for i in range(5):\n",
    "    print(i)\n",
    "    print('Do something...')\n",
    "    if i == 3:\n",
    "        print('continue!')\n",
    "        continue\n",
    "    print('Do somethine else...')"
   ]
  },
  {
   "cell_type": "code",
   "execution_count": 48,
   "metadata": {},
   "outputs": [
    {
     "name": "stdout",
     "output_type": "stream",
     "text": [
      "0\n",
      "Do something...\n",
      "Do somethine else...\n",
      "1\n",
      "Do something...\n",
      "Do somethine else...\n",
      "2\n",
      "Do something...\n",
      "Do somethine else...\n",
      "3\n",
      "Do something...\n",
      "pass!\n",
      "Do somethine else...\n",
      "4\n",
      "Do something...\n",
      "Do somethine else...\n"
     ]
    }
   ],
   "source": [
    "# 循环控制语句\n",
    "# pass 继续执行，当我不存在，常常用来占坑\n",
    "for i in range(5):\n",
    "    print(i)\n",
    "    print('Do something...')\n",
    "    if i == 3:\n",
    "        print('pass!')\n",
    "        pass\n",
    "    print('Do somethine else...')"
   ]
  },
  {
   "cell_type": "markdown",
   "metadata": {},
   "source": [
    "## 函数\n",
    "* 定义\n",
    "   * 注意冒号\n",
    "   * 注意缩进\n",
    "   * 参数可以是许多个\n",
    "   * 参数可以有默认值\n",
    "   * 有默认值的参数必须排最后\n",
    "   * 返回值可以是许多个，组合成一个元组\n",
    "* 调用\n",
    "   * 有默认值的参数要指定名字\n",
    "   * 多个返回值，不需要的用下划线顶替!"
   ]
  },
  {
   "cell_type": "code",
   "execution_count": 49,
   "metadata": {},
   "outputs": [],
   "source": [
    "# 函数定义\n",
    "def myfunc(arg1, arg2, arg3=None):\n",
    "    v1 = arg1 + arg2\n",
    "    v2 = arg1 * arg2\n",
    "    if arg3 is None:\n",
    "        v3 = arg1 + arg2\n",
    "    else:\n",
    "        v3 = arg1 + arg2 + arg3\n",
    "    return v1, v2, v3"
   ]
  },
  {
   "cell_type": "code",
   "execution_count": 50,
   "metadata": {},
   "outputs": [
    {
     "data": {
      "text/plain": [
       "tuple"
      ]
     },
     "execution_count": 50,
     "metadata": {},
     "output_type": "execute_result"
    }
   ],
   "source": [
    "# 函数调用\n",
    "#v1, v2, v3 = myfunc(5, 3, arg3=4)\n",
    "#print(v1, v2, v3)\n",
    "#v1, v2, _ = myfunc(5, 3)\n",
    "#print(v1, v2, v3)\n",
    "type(myfunc(5,3))"
   ]
  },
  {
   "cell_type": "markdown",
   "metadata": {},
   "source": [
    "### 函数的参数：形参和实参\n",
    "- 实参：实际参数，从外面传递来的实际的参数\n",
    "- 形参：形式参数，在函数内部它形式上的名字\n",
    "- 调用函数时，实参按照顺序位置与形参绑定，称为位置参数（Positional Argument）\n",
    "- 也可以在调用时，写明实参与形参的对应关系，称作传递关键字参数（Keyword Argument），这时候位置信息被忽略了\n",
    "- 同时传递位置参数与关键字参数，应该先传递位置参数，再传递关键字参数!"
   ]
  },
  {
   "cell_type": "markdown",
   "metadata": {},
   "source": [
    "### 函数的参数：可变对象\n",
    "+ 如果参数是可变对象（如列表），函数内部对此对象的修改会在函数执行后仍然有效\n",
    "+ 如果默认参数是可变对象，函数内部修改了此对象后，函数默认值也发生了改变!"
   ]
  },
  {
   "cell_type": "code",
   "execution_count": 51,
   "metadata": {},
   "outputs": [
    {
     "name": "stdout",
     "output_type": "stream",
     "text": [
      "[2]\n"
     ]
    }
   ],
   "source": [
    "# 隐藏的参数记录器\n",
    "def growing_list(x, y=[]):\n",
    "    y.append(x)\n",
    "    print(y)\n",
    "# 重复执行growing_list(‘a’)会发生什么结果？\n",
    "growing_list(2)"
   ]
  },
  {
   "cell_type": "code",
   "execution_count": 52,
   "metadata": {},
   "outputs": [
    {
     "name": "stdout",
     "output_type": "stream",
     "text": [
      "[2, '张三']\n"
     ]
    }
   ],
   "source": [
    "growing_list('张三')"
   ]
  },
  {
   "cell_type": "code",
   "execution_count": 53,
   "metadata": {},
   "outputs": [
    {
     "name": "stdout",
     "output_type": "stream",
     "text": [
      "[2, '张三', 22333]\n"
     ]
    }
   ],
   "source": [
    "growing_list(22333)"
   ]
  },
  {
   "cell_type": "markdown",
   "metadata": {},
   "source": [
    "### 函数的参数：不定个数的参数\n",
    "+ 传递不定个数的参数，可在定义参数时，加上一个星号“*”（形参为空的tuple）或两个星号“**”（形参为空的list）"
   ]
  },
  {
   "cell_type": "code",
   "execution_count": 54,
   "metadata": {},
   "outputs": [],
   "source": [
    "# 不定个数的数字求和\n",
    "def my_add(*add_tuple):\n",
    "    sum = 0\n",
    "    for s in add_tuple:\n",
    "        sum += s\n",
    "    return sum"
   ]
  },
  {
   "cell_type": "code",
   "execution_count": 55,
   "metadata": {},
   "outputs": [
    {
     "data": {
      "text/plain": [
       "2243"
      ]
     },
     "execution_count": 55,
     "metadata": {},
     "output_type": "execute_result"
    }
   ],
   "source": [
    "my_add(1,2,3,4,2233)"
   ]
  },
  {
   "cell_type": "code",
   "execution_count": 56,
   "metadata": {},
   "outputs": [],
   "source": [
    "# 不定个数的数字加权求和\n",
    "# 权重随着数字的个数而发生变化\n",
    "def weighted_sum(x1,x2,*y):\n",
    "    sum = 0\n",
    "    n = len(y)\n",
    "    weight = 0.3/n\n",
    "    for i in y:\n",
    "        sum += weight*i\n",
    "    return sum+0.4*x1+0.3*x2"
   ]
  },
  {
   "cell_type": "code",
   "execution_count": 57,
   "metadata": {},
   "outputs": [
    {
     "data": {
      "text/plain": [
       "1.9"
      ]
     },
     "execution_count": 57,
     "metadata": {},
     "output_type": "execute_result"
    }
   ],
   "source": [
    "weighted_sum(1,2,3)"
   ]
  },
  {
   "cell_type": "code",
   "execution_count": 58,
   "metadata": {},
   "outputs": [
    {
     "data": {
      "text/plain": [
       "10.3"
      ]
     },
     "execution_count": 58,
     "metadata": {},
     "output_type": "execute_result"
    }
   ],
   "source": [
    "weighted_sum(1,2,3,22,44,55)"
   ]
  },
  {
   "cell_type": "code",
   "execution_count": 59,
   "metadata": {},
   "outputs": [
    {
     "data": {
      "text/plain": [
       "2.35"
      ]
     },
     "execution_count": 59,
     "metadata": {},
     "output_type": "execute_result"
    }
   ],
   "source": [
    "weighted_sum(1,2,3,4,5,6)"
   ]
  },
  {
   "cell_type": "markdown",
   "metadata": {},
   "source": [
    "### 函数中变量的作用域\n",
    "- 如果变量创建于函数外部，它是全局（Global）的，它在这个py文件内部的任何地方可见。\n",
    "- 如果变量创建于函数内部，它是局部（Local）的，它只能在函数内部才能访问，在函数外部不可见。\n",
    "- 如果全局变量和局部变量重名了，函数内会访问到局部变量，函数外访问到全局变量。\n",
    "- 函数内部能访问全局变量，但不能修改！\n",
    "- 如果非要在函数内部修改全局变量，需要声明（不推荐这么干！）"
   ]
  },
  {
   "cell_type": "markdown",
   "metadata": {},
   "source": [
    "### 匿名函数：lambda表达式"
   ]
  },
  {
   "cell_type": "code",
   "execution_count": 60,
   "metadata": {},
   "outputs": [
    {
     "name": "stdout",
     "output_type": "stream",
     "text": [
      "Hello lambda!\n"
     ]
    }
   ],
   "source": [
    "# 一行中的hello world\n",
    "greeting = lambda: print('Hello lambda!')\n",
    "greeting()"
   ]
  },
  {
   "cell_type": "code",
   "execution_count": 61,
   "metadata": {},
   "outputs": [
    {
     "name": "stdout",
     "output_type": "stream",
     "text": [
      "9\n",
      "27\n",
      "81\n"
     ]
    }
   ],
   "source": [
    "# lambda表达式可以放在数组里面，批量运行\n",
    "L = [lambda x: x**2, lambda x: x**3, lambda x: x**4]\n",
    "for p in L:\n",
    "    print(p(3))"
   ]
  },
  {
   "cell_type": "markdown",
   "metadata": {},
   "source": [
    "## 面向对象\n",
    "- 面向对象（Object-Oriented Programming）是一种编程范式，是模块化设计的重要方法。\n",
    "- 世界由各种对象组成，不同对象之间可以相互作用和通讯。\n",
    "- 描述对象特征的信息称为属性（Attribute）\n",
    "- 存取属性的函数称为方法（Method）\n",
    "- 具有相同属性与方法的对象（Object），属于同一个类别，称之为一个类（Class），其中的一个对象为该类的实例（Instance）\n",
    "- 比如：车，飞机，各位同学…"
   ]
  },
  {
   "cell_type": "code",
   "execution_count": 62,
   "metadata": {},
   "outputs": [],
   "source": [
    "class Person:\n",
    "    ''' 定义一个人 '''\n",
    "    def __init__(self,name,age=0):\n",
    "        ''' 与生俱来的两个属性，姓名和年龄 '''\n",
    "        self.name = name\n",
    "        self.age = age\n",
    "    def birthday(self):\n",
    "        ''' 定义一个方法，过生日 '''\n",
    "        self.age += 1\n",
    "        print('Happy birthday to %s !!!' % self.name)"
   ]
  },
  {
   "cell_type": "code",
   "execution_count": 63,
   "metadata": {},
   "outputs": [
    {
     "name": "stdout",
     "output_type": "stream",
     "text": [
      "Help on class Person in module __main__:\n",
      "\n",
      "class Person(builtins.object)\n",
      " |  Person(name, age=0)\n",
      " |  \n",
      " |  定义一个人\n",
      " |  \n",
      " |  Methods defined here:\n",
      " |  \n",
      " |  __init__(self, name, age=0)\n",
      " |      与生俱来的两个属性，姓名和年龄\n",
      " |  \n",
      " |  birthday(self)\n",
      " |      定义一个方法，过生日\n",
      " |  \n",
      " |  ----------------------------------------------------------------------\n",
      " |  Data descriptors defined here:\n",
      " |  \n",
      " |  __dict__\n",
      " |      dictionary for instance variables (if defined)\n",
      " |  \n",
      " |  __weakref__\n",
      " |      list of weak references to the object (if defined)\n",
      "\n"
     ]
    }
   ],
   "source": [
    "help(Person)"
   ]
  },
  {
   "cell_type": "code",
   "execution_count": 64,
   "metadata": {},
   "outputs": [],
   "source": [
    "a = Person('小明')"
   ]
  },
  {
   "cell_type": "code",
   "execution_count": 65,
   "metadata": {},
   "outputs": [
    {
     "data": {
      "text/plain": [
       "'小明'"
      ]
     },
     "execution_count": 65,
     "metadata": {},
     "output_type": "execute_result"
    }
   ],
   "source": [
    "a.name"
   ]
  },
  {
   "cell_type": "code",
   "execution_count": 66,
   "metadata": {},
   "outputs": [
    {
     "data": {
      "text/plain": [
       "0"
      ]
     },
     "execution_count": 66,
     "metadata": {},
     "output_type": "execute_result"
    }
   ],
   "source": [
    "a.age"
   ]
  },
  {
   "cell_type": "code",
   "execution_count": 67,
   "metadata": {},
   "outputs": [
    {
     "name": "stdout",
     "output_type": "stream",
     "text": [
      "Happy birthday to 小明 !!!\n"
     ]
    }
   ],
   "source": [
    "a.birthday()"
   ]
  },
  {
   "cell_type": "code",
   "execution_count": 68,
   "metadata": {},
   "outputs": [
    {
     "name": "stdout",
     "output_type": "stream",
     "text": [
      "Happy birthday to 小明 !!!\n"
     ]
    }
   ],
   "source": [
    "a.birthday()"
   ]
  },
  {
   "cell_type": "code",
   "execution_count": 69,
   "metadata": {},
   "outputs": [
    {
     "data": {
      "text/plain": [
       "2"
      ]
     },
     "execution_count": 69,
     "metadata": {},
     "output_type": "execute_result"
    }
   ],
   "source": [
    "a.age"
   ]
  },
  {
   "cell_type": "code",
   "execution_count": 70,
   "metadata": {},
   "outputs": [],
   "source": [
    "class Student(Person):\n",
    "    ''' 定义类：学生，继承 “人”这个类别 '''\n",
    "    def __init__(self,name,age=0,school='bnu'):\n",
    "        ''' 初始化一个“学生” '''\n",
    "        Person.__init__(self,name,age)\n",
    "        self.school = school\n",
    "    def gotoschool(self):\n",
    "        ''' 上学函数 '''\n",
    "        print('%s go to the school %s!' % (self.name, self.school))"
   ]
  },
  {
   "cell_type": "code",
   "execution_count": 71,
   "metadata": {},
   "outputs": [],
   "source": [
    "b = Student('韩梅梅')"
   ]
  },
  {
   "cell_type": "code",
   "execution_count": 72,
   "metadata": {},
   "outputs": [
    {
     "name": "stdout",
     "output_type": "stream",
     "text": [
      "韩梅梅 go to the school bnu!\n"
     ]
    }
   ],
   "source": [
    "b.gotoschool()"
   ]
  },
  {
   "cell_type": "markdown",
   "metadata": {},
   "source": [
    "## 标准库\n",
    "### 有序类型的共同操作\n",
    "- 列表、元组、字符串及其衍生类型的共同操作"
   ]
  },
  {
   "cell_type": "code",
   "execution_count": 73,
   "metadata": {},
   "outputs": [
    {
     "data": {
      "text/plain": [
       "True"
      ]
     },
     "execution_count": 73,
     "metadata": {},
     "output_type": "execute_result"
    }
   ],
   "source": [
    "s = [1,4,2,6,3]\n",
    "x = 4\n",
    "# x in s 如果x在序列s中，返回True，否则返回False\n",
    "x in s"
   ]
  },
  {
   "cell_type": "code",
   "execution_count": 74,
   "metadata": {},
   "outputs": [
    {
     "data": {
      "text/plain": [
       "False"
      ]
     },
     "execution_count": 74,
     "metadata": {},
     "output_type": "execute_result"
    }
   ],
   "source": [
    "# x not in s 如果x不在序列s中，返回True，否则返回False\n",
    "x not in s"
   ]
  },
  {
   "cell_type": "code",
   "execution_count": 75,
   "metadata": {},
   "outputs": [
    {
     "data": {
      "text/plain": [
       "[1, 4, 2, 6, 3, 7, 1, 2, 6]"
      ]
     },
     "execution_count": 75,
     "metadata": {},
     "output_type": "execute_result"
    }
   ],
   "source": [
    "# s+t 序列s和t拼接，如果两个序列s和t的数据类型相同\n",
    "t = [7,1,2,6]\n",
    "s + t"
   ]
  },
  {
   "cell_type": "code",
   "execution_count": 76,
   "metadata": {},
   "outputs": [
    {
     "data": {
      "text/plain": [
       "'吃着火锅唱着歌！忽然接到导师的电话！！！'"
      ]
     },
     "execution_count": 76,
     "metadata": {},
     "output_type": "execute_result"
    }
   ],
   "source": [
    "'吃着火锅唱着歌！'+'忽然接到导师的电话！！！'"
   ]
  },
  {
   "cell_type": "code",
   "execution_count": 77,
   "metadata": {},
   "outputs": [
    {
     "name": "stdout",
     "output_type": "stream",
     "text": [
      "2\n"
     ]
    }
   ],
   "source": [
    "a = (1,2,3)+(3,4,5)\n",
    "print(a[1])"
   ]
  },
  {
   "cell_type": "code",
   "execution_count": 78,
   "metadata": {},
   "outputs": [
    {
     "ename": "TypeError",
     "evalue": "'tuple' object does not support item assignment",
     "output_type": "error",
     "traceback": [
      "\u001b[1;31m---------------------------------------------------------------------------\u001b[0m",
      "\u001b[1;31mTypeError\u001b[0m                                 Traceback (most recent call last)",
      "\u001b[1;32m~\\AppData\\Local\\Temp/ipykernel_23216/3801863999.py\u001b[0m in \u001b[0;36m<module>\u001b[1;34m\u001b[0m\n\u001b[1;32m----> 1\u001b[1;33m \u001b[0ma\u001b[0m\u001b[1;33m[\u001b[0m\u001b[1;36m1\u001b[0m\u001b[1;33m]\u001b[0m\u001b[1;33m=\u001b[0m\u001b[1;36m5\u001b[0m\u001b[1;33m\u001b[0m\u001b[1;33m\u001b[0m\u001b[0m\n\u001b[0m",
      "\u001b[1;31mTypeError\u001b[0m: 'tuple' object does not support item assignment"
     ]
    }
   ],
   "source": [
    "a[1]=5"
   ]
  },
  {
   "cell_type": "code",
   "execution_count": 79,
   "metadata": {},
   "outputs": [
    {
     "data": {
      "text/plain": [
       "[1, 4, 2, 6, 3, 1, 4, 2, 6, 3, 1, 4, 2, 6, 3]"
      ]
     },
     "execution_count": 79,
     "metadata": {},
     "output_type": "execute_result"
    }
   ],
   "source": [
    "# s*n 序列s中的元素重复n次，形成新的序列\n",
    "s*3"
   ]
  },
  {
   "cell_type": "code",
   "execution_count": 80,
   "metadata": {},
   "outputs": [
    {
     "data": {
      "text/plain": [
       "4"
      ]
     },
     "execution_count": 80,
     "metadata": {},
     "output_type": "execute_result"
    }
   ],
   "source": [
    "# s[i] 返回序列s的索引值为i的元素\n",
    "s[1]"
   ]
  },
  {
   "cell_type": "code",
   "execution_count": 81,
   "metadata": {},
   "outputs": [
    {
     "data": {
      "text/plain": [
       "[1, 4]"
      ]
     },
     "execution_count": 81,
     "metadata": {},
     "output_type": "execute_result"
    }
   ],
   "source": [
    "# s[i:j] 返回序列s的从i到j的切片，包括i，不包括j\n",
    "s[0:2]"
   ]
  },
  {
   "cell_type": "code",
   "execution_count": 82,
   "metadata": {},
   "outputs": [
    {
     "data": {
      "text/plain": [
       "[1, 2]"
      ]
     },
     "execution_count": 82,
     "metadata": {},
     "output_type": "execute_result"
    }
   ],
   "source": [
    "# s[i:j:k] 返回序列s的切片，以k为步长，从i开始到j结束\n",
    "s[0:4:2]"
   ]
  },
  {
   "cell_type": "code",
   "execution_count": 83,
   "metadata": {},
   "outputs": [
    {
     "data": {
      "text/plain": [
       "5"
      ]
     },
     "execution_count": 83,
     "metadata": {},
     "output_type": "execute_result"
    }
   ],
   "source": [
    "# len(s) 返回序列s的长度\n",
    "len(s)"
   ]
  },
  {
   "cell_type": "code",
   "execution_count": 84,
   "metadata": {},
   "outputs": [
    {
     "data": {
      "text/plain": [
       "1"
      ]
     },
     "execution_count": 84,
     "metadata": {},
     "output_type": "execute_result"
    }
   ],
   "source": [
    "# min(s) 返回序列s中的最小值\n",
    "min(s)"
   ]
  },
  {
   "cell_type": "code",
   "execution_count": 85,
   "metadata": {},
   "outputs": [
    {
     "data": {
      "text/plain": [
       "6"
      ]
     },
     "execution_count": 85,
     "metadata": {},
     "output_type": "execute_result"
    }
   ],
   "source": [
    "# max(s) 返回序列s中的最大值\n",
    "max(s)"
   ]
  },
  {
   "cell_type": "code",
   "execution_count": 86,
   "metadata": {},
   "outputs": [
    {
     "data": {
      "text/plain": [
       "0"
      ]
     },
     "execution_count": 86,
     "metadata": {},
     "output_type": "execute_result"
    }
   ],
   "source": [
    "# s.index(x[,i[,j]]) 返回x在序列s或者切片s[i:j]中第一次出现的索引值\n",
    "s.index(1)"
   ]
  },
  {
   "cell_type": "code",
   "execution_count": 87,
   "metadata": {},
   "outputs": [
    {
     "data": {
      "text/plain": [
       "1"
      ]
     },
     "execution_count": 87,
     "metadata": {},
     "output_type": "execute_result"
    }
   ],
   "source": [
    "# s.count(x) 返回序列s中，元素x出现的次数\n",
    "s.count(1)"
   ]
  },
  {
   "cell_type": "markdown",
   "metadata": {},
   "source": [
    "### 列表类型的常用操作"
   ]
  },
  {
   "cell_type": "code",
   "execution_count": 88,
   "metadata": {},
   "outputs": [
    {
     "data": {
      "text/plain": [
       "[1, 5, 7, 6, 3, 233]"
      ]
     },
     "execution_count": 88,
     "metadata": {},
     "output_type": "execute_result"
    }
   ],
   "source": [
    "# List1.append(x) 在列表末尾追加元素x\n",
    "s = [1,5,7,6,3]\n",
    "s.append(233)\n",
    "s"
   ]
  },
  {
   "cell_type": "code",
   "execution_count": 89,
   "metadata": {},
   "outputs": [
    {
     "data": {
      "text/plain": [
       "[1, 5, 7, 6, 3, 233, 0, 1, 2, 3, 4]"
      ]
     },
     "execution_count": 89,
     "metadata": {},
     "output_type": "execute_result"
    }
   ],
   "source": [
    "# List1.extend(w) 增加多个元素，w是可迭代对象，将w迭代得到的对象都增加到List1的末尾\n",
    "s.extend(range(5))\n",
    "s"
   ]
  },
  {
   "cell_type": "code",
   "execution_count": 90,
   "metadata": {},
   "outputs": [
    {
     "data": {
      "text/plain": [
       "[1, 4567, 5, 7, 6, 3, 233, 0, 1, 2, 3, 4]"
      ]
     },
     "execution_count": 90,
     "metadata": {},
     "output_type": "execute_result"
    }
   ],
   "source": [
    "# List1.insert(i,x) 在索引值为i的地方插入元素x\n",
    "s.insert(1,4567)\n",
    "s"
   ]
  },
  {
   "cell_type": "code",
   "execution_count": 91,
   "metadata": {},
   "outputs": [
    {
     "name": "stdout",
     "output_type": "stream",
     "text": [
      "4\n",
      "[1, 4567, 5, 7, 6, 3, 233, 0, 1, 2, 3]\n"
     ]
    }
   ],
   "source": [
    "# List1.pop() 删除列表末尾的元素，并将其作为返回值\n",
    "p = s.pop()\n",
    "print(p)\n",
    "print(s)"
   ]
  },
  {
   "cell_type": "code",
   "execution_count": 92,
   "metadata": {},
   "outputs": [
    {
     "name": "stdout",
     "output_type": "stream",
     "text": [
      "4567\n",
      "[1, 5, 7, 6, 3, 233, 0, 1, 2, 3]\n"
     ]
    }
   ],
   "source": [
    "# List1.pop(i) 删除并返回索引值为i的元素\n",
    "p = s.pop(1)\n",
    "print(p)\n",
    "print(s)"
   ]
  },
  {
   "cell_type": "code",
   "execution_count": 93,
   "metadata": {},
   "outputs": [
    {
     "data": {
      "text/plain": [
       "2"
      ]
     },
     "execution_count": 93,
     "metadata": {},
     "output_type": "execute_result"
    }
   ],
   "source": [
    "# List1.count(x) 返回列表中元素x出现的次数\n",
    "s.count(1)"
   ]
  },
  {
   "cell_type": "code",
   "execution_count": 94,
   "metadata": {},
   "outputs": [
    {
     "name": "stdout",
     "output_type": "stream",
     "text": [
      "None\n",
      "[1, 5, 7, 6, 3, 0, 1, 2, 3]\n"
     ]
    }
   ],
   "source": [
    "# List1.remove(x) 移除列表中第一次出现的元素x\n",
    "print(s.remove(233))\n",
    "print(s)"
   ]
  },
  {
   "cell_type": "code",
   "execution_count": 95,
   "metadata": {},
   "outputs": [
    {
     "data": {
      "text/plain": [
       "[0, 1, 1, 2, 3, 3, 5, 6, 7]"
      ]
     },
     "execution_count": 95,
     "metadata": {},
     "output_type": "execute_result"
    }
   ],
   "source": [
    "# List1.sort() 升序排列\n",
    "s.sort()\n",
    "s"
   ]
  },
  {
   "cell_type": "code",
   "execution_count": 96,
   "metadata": {},
   "outputs": [
    {
     "data": {
      "text/plain": [
       "[7, 6, 5, 3, 3, 2, 1, 1, 0]"
      ]
     },
     "execution_count": 96,
     "metadata": {},
     "output_type": "execute_result"
    }
   ],
   "source": [
    "# List1.reverse() 降序排列\n",
    "s.reverse()\n",
    "s"
   ]
  },
  {
   "cell_type": "code",
   "execution_count": 97,
   "metadata": {},
   "outputs": [
    {
     "data": {
      "text/plain": [
       "2"
      ]
     },
     "execution_count": 97,
     "metadata": {},
     "output_type": "execute_result"
    }
   ],
   "source": [
    "# List1.index(x,start,end) 返回列表List1或列表切片List1[start:end]中元素x第一次出现的索引值\n",
    "p = s.index(5,0,5)\n",
    "p"
   ]
  },
  {
   "cell_type": "markdown",
   "metadata": {},
   "source": [
    "### 字符串类型的常用操作"
   ]
  },
  {
   "cell_type": "code",
   "execution_count": 98,
   "metadata": {},
   "outputs": [
    {
     "data": {
      "text/plain": [
       "-1"
      ]
     },
     "execution_count": 98,
     "metadata": {},
     "output_type": "execute_result"
    }
   ],
   "source": [
    "# str.find(x) 返回字符串x出现在str中的最左边的位置，不存在返回-1\n",
    "s = '吃着火锅唱着歌！'+'忽然接到导师的电话！！！'+'吃不成火锅了赶紧撤！'\n",
    "s.find('学')"
   ]
  },
  {
   "cell_type": "code",
   "execution_count": 99,
   "metadata": {},
   "outputs": [
    {
     "ename": "ValueError",
     "evalue": "substring not found",
     "output_type": "error",
     "traceback": [
      "\u001b[1;31m---------------------------------------------------------------------------\u001b[0m",
      "\u001b[1;31mValueError\u001b[0m                                Traceback (most recent call last)",
      "\u001b[1;32m~\\AppData\\Local\\Temp/ipykernel_23216/3086834574.py\u001b[0m in \u001b[0;36m<module>\u001b[1;34m\u001b[0m\n\u001b[0;32m      1\u001b[0m \u001b[1;31m# str.index(x) 返回字符串x出现在str中的最左边的位置，不存在会报错\u001b[0m\u001b[1;33m\u001b[0m\u001b[1;33m\u001b[0m\u001b[1;33m\u001b[0m\u001b[0m\n\u001b[1;32m----> 2\u001b[1;33m \u001b[0ms\u001b[0m\u001b[1;33m.\u001b[0m\u001b[0mindex\u001b[0m\u001b[1;33m(\u001b[0m\u001b[1;34m'学'\u001b[0m\u001b[1;33m)\u001b[0m\u001b[1;33m\u001b[0m\u001b[1;33m\u001b[0m\u001b[0m\n\u001b[0m",
      "\u001b[1;31mValueError\u001b[0m: substring not found"
     ]
    }
   ],
   "source": [
    "# str.index(x) 返回字符串x出现在str中的最左边的位置，不存在会报错\n",
    "s.index('学')"
   ]
  },
  {
   "cell_type": "code",
   "execution_count": 100,
   "metadata": {},
   "outputs": [
    {
     "data": {
      "text/plain": [
       "23"
      ]
     },
     "execution_count": 100,
     "metadata": {},
     "output_type": "execute_result"
    }
   ],
   "source": [
    "# str.rfind(x) 返回字符串x出现在str中的最右边的位置，不存在返回-1\n",
    "s.rfind('火')"
   ]
  },
  {
   "cell_type": "code",
   "execution_count": 101,
   "metadata": {},
   "outputs": [
    {
     "data": {
      "text/plain": [
       "23"
      ]
     },
     "execution_count": 101,
     "metadata": {},
     "output_type": "execute_result"
    }
   ],
   "source": [
    "# str.rindex(x) 返回字符串x出现在str中的最右边的位置，不存在会报错\n",
    "s.rindex('火')"
   ]
  },
  {
   "cell_type": "code",
   "execution_count": 102,
   "metadata": {},
   "outputs": [
    {
     "data": {
      "text/plain": [
       "True"
      ]
     },
     "execution_count": 102,
     "metadata": {},
     "output_type": "execute_result"
    }
   ],
   "source": [
    "# str.startswith(x) x为字符串或者字符串组成的元组，如果str以x或x元组中的某一元素开头，则返回True，否则返回False\n",
    "s.startswith('吃')"
   ]
  },
  {
   "cell_type": "code",
   "execution_count": 103,
   "metadata": {},
   "outputs": [
    {
     "data": {
      "text/plain": [
       "True"
      ]
     },
     "execution_count": 103,
     "metadata": {},
     "output_type": "execute_result"
    }
   ],
   "source": [
    "# str.endswith(x) x为字符串或者字符串组成的元组，如果str以x或x元组中的某一元素结尾，则返回True，否则返回False\n",
    "s.endswith('！')"
   ]
  },
  {
   "cell_type": "code",
   "execution_count": 104,
   "metadata": {},
   "outputs": [
    {
     "data": {
      "text/plain": [
       "'吃着火锅唱着歌！忽然接到导师的电话！！！吃不成火锅了赶紧撤！'"
      ]
     },
     "execution_count": 104,
     "metadata": {},
     "output_type": "execute_result"
    }
   ],
   "source": [
    "# str.strip([chars]) 删去对象开始和结尾处与字符chars相同的部分\n",
    "s = '   吃着火锅唱着歌！'+'忽然接到导师的电话！！！'+'吃不成火锅了赶紧撤！   '\n",
    "ss = s.strip()\n",
    "ss"
   ]
  },
  {
   "cell_type": "code",
   "execution_count": 105,
   "metadata": {},
   "outputs": [
    {
     "data": {
      "text/plain": [
       "'   吃着火锅唱着歌！忽然接到导师的电话！！！吃不成火锅了赶紧撤！'"
      ]
     },
     "execution_count": 105,
     "metadata": {},
     "output_type": "execute_result"
    }
   ],
   "source": [
    "# str.rstrip([chars]) 删去对象结尾处与字符chars相同的部分\n",
    "sss = s.rstrip(' ')\n",
    "sss"
   ]
  },
  {
   "cell_type": "code",
   "execution_count": null,
   "metadata": {},
   "outputs": [],
   "source": []
  }
 ],
 "metadata": {
  "kernelspec": {
   "display_name": "Python 3 (ipykernel)",
   "language": "python",
   "name": "python3"
  },
  "language_info": {
   "codemirror_mode": {
    "name": "ipython",
    "version": 3
   },
   "file_extension": ".py",
   "mimetype": "text/x-python",
   "name": "python",
   "nbconvert_exporter": "python",
   "pygments_lexer": "ipython3",
   "version": "3.7.11"
  }
 },
 "nbformat": 4,
 "nbformat_minor": 4
}
