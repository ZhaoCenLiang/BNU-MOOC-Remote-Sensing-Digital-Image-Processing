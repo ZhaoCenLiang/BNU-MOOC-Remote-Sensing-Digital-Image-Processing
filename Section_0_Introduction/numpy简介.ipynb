{
 "cells": [
  {
   "cell_type": "markdown",
   "metadata": {},
   "source": [
    "# Numpy简介\n",
    "- python标准库中的列表(list)可以当数组用，支持动态内存分配和垃圾收集，列表元素可以是任何对象，功能强大！\n",
    "- 列表的缺点：\n",
    "    1. 慢：循环时有各种下标检查和类型检查\n",
    "    2. 占内存多：保存的是对象+指针\n",
    "- NumPy的优点：\n",
    "    1. 两大法宝：多维数组ndarray和通用函数ufunc\n",
    "    2. 面向数值计算，速度快（内置函数逼近c语言）\n",
    "- NumPy官方提供丰富的[中文资源](https://www.numpy.org.cn/)\n",
    "- 如何使用Numpy等python第三方软件包？（如何开外挂？）\n",
    "    1. 先导入再使用，没导入就没法用\n",
    "    2. 如何导入？用import\n",
    "    3. 被import的可以是通过conda或pip安装的包，也可以是python的path中（包括当前目录）的其它x.py文件。"
   ]
  },
  {
   "cell_type": "code",
   "execution_count": 1,
   "metadata": {},
   "outputs": [],
   "source": [
    "# 导入用conda或者pip安装到python默认路径下的包\n",
    "import numpy as np # 导入名为numpy的包，起个昵称叫np\n",
    "# import numpy     # 导入名为numpy的包\n",
    "# from numpy import array as ar   # 从numpy中导入array，起个昵称叫ar\n",
    "# np = __import__(\"numpy\") # 知道模块的名字就可以导入，这里使用的是import的函数形式 __import__(str) 注意双下划线"
   ]
  },
  {
   "cell_type": "markdown",
   "metadata": {},
   "source": [
    "## 多维数组ndarray对象\n",
    "- 多维数组ndarray（n-dimensional array object）是NumPy的核心对象\n",
    "- 它存储单一类型的多维数组，注意与列表（list）的区别\n",
    "- 结构简单，功能强大\n",
    "- 使用优化过的C API，速度快\n",
    "- 参考资料：\n",
    "    - NumPy可以参考《python科学计算（第二版）》，该书使用python2.7，注意与3的区别（主要是print和unicode字符串）\n",
    "    - 注意，python的版本问题，现在正值2.7与3.x交替的乱世！现有参考资料中有些沿用python2.7，有的用3.x。要注意分辨\n",
    "    - 英语好的同学，建议直接学习numpy官方文档（英语不好的，建议补习英语！）\n",
    "\n",
    "### ndarray对象：创建"
   ]
  },
  {
   "cell_type": "code",
   "execution_count": 8,
   "metadata": {},
   "outputs": [
    {
     "name": "stdout",
     "output_type": "stream",
     "text": [
      "a =  [1 2 3 4]\n",
      "b =  [5 6 7 8]\n",
      "c =  [[ 1  2  3  4]\n",
      " [ 4  5  6  7]\n",
      " [ 7  8  9 10]]\n"
     ]
    }
   ],
   "source": [
    "# 给np.array()函数传递python序列对象\n",
    "a=np.array([1,2,3,4])\n",
    "b=np.array((5,6,7,8))\n",
    "c=np.array([[1,2,3,4],[4,5,6,7],[7,8,9,10]])\n",
    "print('a = ',a)\n",
    "print('b = ',b)\n",
    "print('c = ',c)"
   ]
  },
  {
   "cell_type": "code",
   "execution_count": 9,
   "metadata": {},
   "outputs": [
    {
     "name": "stdout",
     "output_type": "stream",
     "text": [
      "zz =  [[[0. 0. 0. 0.]\n",
      "  [0. 0. 0. 0.]\n",
      "  [0. 0. 0. 0.]]\n",
      "\n",
      " [[0. 0. 0. 0.]\n",
      "  [0. 0. 0. 0.]\n",
      "  [0. 0. 0. 0.]]]\n",
      "oo =  [[[1. 1. 1. 1.]\n",
      "  [1. 1. 1. 1.]\n",
      "  [1. 1. 1. 1.]]\n",
      "\n",
      " [[1. 1. 1. 1.]\n",
      "  [1. 1. 1. 1.]\n",
      "  [1. 1. 1. 1.]]]\n",
      "ee =  [[[-2.68156159e+154 -2.68156159e+154  9.38724727e-323  0.00000000e+000]\n",
      "  [ 2.12199579e-314  1.16097020e-028  3.93229337e-062  2.26233635e-076]\n",
      "  [ 5.93966783e-038  5.01163173e+217  8.37170074e-144  1.51845213e-047]]\n",
      "\n",
      " [[ 1.38053435e-047  5.20764726e-090  6.09519899e+170  5.01163186e+217]\n",
      "  [ 5.49419094e-143  9.80058441e+252  7.50189709e+247  1.35617292e+248]\n",
      "  [ 4.65114471e-062  3.61006909e+174  2.57692763e-056  3.21443386e-057]]]\n",
      "ff =  [[[999 999 999 999]\n",
      "  [999 999 999 999]\n",
      "  [999 999 999 999]]\n",
      "\n",
      " [[999 999 999 999]\n",
      "  [999 999 999 999]\n",
      "  [999 999 999 999]]]\n"
     ]
    }
   ],
   "source": [
    "# 也可以用zeros, ones, empty和full函数，创建指定大小，值为0/1/空/指定数值的数组\n",
    "zz=np.zeros((2,3,4))\n",
    "oo=np.ones((2,3,4))\n",
    "ee=np.empty((2,3,4))\n",
    "ff=np.full((2,3,4),999)\n",
    "print('zz = ', zz)\n",
    "print('oo = ', oo)\n",
    "print('ee = ', ee)\n",
    "print('ff = ', ff)\n",
    "# empty只分配内存，不赋值，最快。但是里面的内容是啥就不一定了！使用empty创建的ndarray，一定得初始化再使用。"
   ]
  },
  {
   "cell_type": "code",
   "execution_count": 10,
   "metadata": {},
   "outputs": [
    {
     "name": "stdout",
     "output_type": "stream",
     "text": [
      "za =  [0 0 0 0]\n",
      "oa =  [1 1 1 1]\n",
      "ea =  [-2305843009213693952        8788515799679      140616251998210\n",
      "      689902448881459]\n",
      "fa =  [999 999 999 999]\n"
     ]
    }
   ],
   "source": [
    "# 创建形状类型与a相同的数组\n",
    "za = np.zeros_like(a)\n",
    "oa = np.ones_like(a)\n",
    "ea = np.empty_like(a)\n",
    "fa = np.full_like(a,999) \n",
    "print('za = ', za)\n",
    "print('oa = ', oa)\n",
    "print('ea = ', ea)\n",
    "print('fa = ', fa)"
   ]
  },
  {
   "cell_type": "markdown",
   "metadata": {},
   "source": [
    "### ndarray对象：形状\n",
    "- 数组对象的形状通过shape属性获得，返回一个描述数组各个轴的长度的元组(tuple)，元组的长度等于数组的维数\n",
    "- 例如:\n",
    "    - (3,4)，表示第0轴长度为3，第1轴长度为4（三行四列）\n",
    "    - (2,3,4)表示第0轴长度为2，第1轴长度为3，第2轴长度为4\n",
    "- 建议同学们使用**第X轴**的方式思考，0轴在最顶层，以此类推\n",
    "- ndarray类型的对象里面，数据都是一维化之后存储在连续分配的内存中，ndarray的维度仅仅是告诉numpy如何读取而已\n",
    "- 所以，可以通过改变shape属性，改变数组的形状。（注意和**转置**的区别！！！）"
   ]
  },
  {
   "cell_type": "code",
   "execution_count": 11,
   "metadata": {},
   "outputs": [
    {
     "name": "stdout",
     "output_type": "stream",
     "text": [
      "(2, 3, 4)\n",
      "[[[ 1  2  3  4]\n",
      "  [ 5  6  7  8]\n",
      "  [ 9 10 11 12]]\n",
      "\n",
      " [[13 14 15 16]\n",
      "  [17 18 19 20]\n",
      "  [21 22 23 24]]]\n"
     ]
    }
   ],
   "source": [
    "c = np.array([[[1,2,3,4],[5,6,7,8],[9,10,11,12]],[[13,14,15,16],[17,18,19,20],[21,22,23,24]]])\n",
    "print(c.shape)\n",
    "print(c) # 2片，3行，4列（第0轴长度为2，第1轴长度为3，第2轴长度为4）"
   ]
  },
  {
   "cell_type": "code",
   "execution_count": 12,
   "metadata": {},
   "outputs": [
    {
     "name": "stdout",
     "output_type": "stream",
     "text": [
      "(2, 4, 3)\n",
      "[[[ 1  2  3]\n",
      "  [ 4  5  6]\n",
      "  [ 7  8  9]\n",
      "  [10 11 12]]\n",
      "\n",
      " [[13 14 15]\n",
      "  [16 17 18]\n",
      "  [19 20 21]\n",
      "  [22 23 24]]]\n"
     ]
    }
   ],
   "source": [
    "# 改变数组的形状\n",
    "c.shape = (2,4,3) # 注意这不是转置！！！改变形状之后，数据的顺序是不变的。\n",
    "print(c.shape)\n",
    "print(c)"
   ]
  },
  {
   "cell_type": "code",
   "execution_count": 13,
   "metadata": {},
   "outputs": [
    {
     "name": "stdout",
     "output_type": "stream",
     "text": [
      "(3, 8)\n",
      "[[ 1  2  3  4  5  6  7  8]\n",
      " [ 9 10 11 12 13 14 15 16]\n",
      " [17 18 19 20 21 22 23 24]]\n"
     ]
    }
   ],
   "source": [
    "# 用-1表示这一个维度的长度是自动计算的\n",
    "c.shape = 3,-1\n",
    "print(c.shape)\n",
    "print(c)"
   ]
  },
  {
   "cell_type": "code",
   "execution_count": 14,
   "metadata": {},
   "outputs": [
    {
     "name": "stdout",
     "output_type": "stream",
     "text": [
      "d.shape =  (2, 3, 4)\n",
      "d =  [[[ 1  2  3  4]\n",
      "  [ 5  6  7  8]\n",
      "  [ 9 10 11 12]]\n",
      "\n",
      " [[13 14 15 16]\n",
      "  [17 18 19 20]\n",
      "  [21 22 23 24]]]\n",
      "c.shape =  (3, 8)\n"
     ]
    }
   ],
   "source": [
    "# 使用reshape创建指定形状的新数组\n",
    "d = c.reshape((2,3,4))\n",
    "print('d.shape = ', d.shape)\n",
    "print('d = ', d)\n",
    "# c的形状不变\n",
    "print('c.shape = ', c.shape)"
   ]
  },
  {
   "cell_type": "code",
   "execution_count": 15,
   "metadata": {},
   "outputs": [
    {
     "name": "stdout",
     "output_type": "stream",
     "text": [
      "c =  [[2233    2    3    4    5    6    7    8]\n",
      " [   9   10   11   12   13   14   15   16]\n",
      " [  17   18   19   20   21   22   23   24]]\n",
      "d =  [[[2233    2    3    4]\n",
      "  [   5    6    7    8]\n",
      "  [   9   10   11   12]]\n",
      "\n",
      " [[  13   14   15   16]\n",
      "  [  17   18   19   20]\n",
      "  [  21   22   23   24]]]\n"
     ]
    }
   ],
   "source": [
    "# 改变d的元素，c的元素仍会改变！\n",
    "# 完全复制建议使用copy.deepcopy()\n",
    "c[0,0] = 2233\n",
    "print('c = ', c)\n",
    "print('d = ', d)"
   ]
  },
  {
   "cell_type": "markdown",
   "metadata": {},
   "source": [
    "### ndarray对象：类型\n",
    "- 在读写地理数据时，ndarray的类型很**重要**！\n",
    "- np数组如c语言一样有类型，通过dtype属性查看\n",
    "- 创建数组时可以指定数据类型\n",
    "- numpy支持的数据类型比python标准库支持的更加广泛"
   ]
  },
  {
   "cell_type": "code",
   "execution_count": 16,
   "metadata": {},
   "outputs": [
    {
     "name": "stdout",
     "output_type": "stream",
     "text": [
      "int64\n"
     ]
    }
   ],
   "source": [
    "# 看看ndarray c的类型\n",
    "print(c.dtype)"
   ]
  },
  {
   "cell_type": "code",
   "execution_count": 17,
   "metadata": {},
   "outputs": [
    {
     "name": "stdout",
     "output_type": "stream",
     "text": [
      "int64\n",
      "float64\n",
      "float64\n"
     ]
    }
   ],
   "source": [
    "# 创建array的默认数据类型是？\n",
    "a = np.array([1,2,3,4])\n",
    "print(a.dtype)\n",
    "b = np.array([1.0, 2.0, 3.0, 4.0])\n",
    "print(b.dtype)\n",
    "c = np.zeros(4)\n",
    "print(c.dtype)"
   ]
  },
  {
   "cell_type": "code",
   "execution_count": 18,
   "metadata": {},
   "outputs": [
    {
     "name": "stdout",
     "output_type": "stream",
     "text": [
      "int32\n",
      "float64\n",
      "complex128\n"
     ]
    }
   ],
   "source": [
    "# 创建数组时指定数据类型\n",
    "ai32 = np.array([1, 2, 3, 4], dtype=np.int32) \n",
    "af = np.array([1, 2, 3, 4], dtype=float)\n",
    "ac = np.array([1, 2, 3, 4], dtype=complex) \n",
    "# 其中np.int32时numpy的数据类型；float和complex是python内置的类型，会自动转换为numpy的数据类型\n",
    "print(ai32.dtype)\n",
    "print(af.dtype)\n",
    "print(ac.dtype)"
   ]
  },
  {
   "cell_type": "code",
   "execution_count": 19,
   "metadata": {},
   "outputs": [
    {
     "data": {
      "text/plain": [
       "{numpy.bool_,\n",
       " numpy.bytes_,\n",
       " numpy.complex128,\n",
       " numpy.complex256,\n",
       " numpy.complex64,\n",
       " numpy.datetime64,\n",
       " numpy.float128,\n",
       " numpy.float16,\n",
       " numpy.float32,\n",
       " numpy.float64,\n",
       " numpy.int16,\n",
       " numpy.int32,\n",
       " numpy.int64,\n",
       " numpy.int64,\n",
       " numpy.int8,\n",
       " numpy.object_,\n",
       " numpy.str_,\n",
       " numpy.timedelta64,\n",
       " numpy.uint16,\n",
       " numpy.uint32,\n",
       " numpy.uint64,\n",
       " numpy.uint64,\n",
       " numpy.uint8,\n",
       " numpy.void}"
      ]
     },
     "execution_count": 19,
     "metadata": {},
     "output_type": "execute_result"
    }
   ],
   "source": [
    "# 用 set(np.typeDict.values()) 查看numpy支持的类型\n",
    "set(np.typeDict.values()) "
   ]
  },
  {
   "cell_type": "code",
   "execution_count": 20,
   "metadata": {},
   "outputs": [
    {
     "name": "stdout",
     "output_type": "stream",
     "text": [
      "-25536\n"
     ]
    },
    {
     "name": "stderr",
     "output_type": "stream",
     "text": [
      "/Users/gongwei/miniconda3/envs/gis/lib/python3.6/site-packages/ipykernel_launcher.py:5: RuntimeWarning: overflow encountered in short_scalars\n",
      "  \"\"\"\n"
     ]
    }
   ],
   "source": [
    "# 类型转换\n",
    "# np.int16将数值转换为C中的int16型，行为与C语言中的对应类型一致\n",
    "a=np.int16(200)\n",
    "# 下面这句话会导致溢出，看看是什么么结果？\n",
    "print(a*a)\n",
    "# 数据强制转换为numpy对象后，由于还要套着python对象，运算速度慢，不建议单独使用！\n",
    "# 对numpy的对象，使用numpy的内置功能才能提高速度\n",
    "\n",
    "# \"流浪地球\"梗： 李家五兄弟 00 01 10 11 溢出 "
   ]
  },
  {
   "cell_type": "code",
   "execution_count": 21,
   "metadata": {},
   "outputs": [
    {
     "name": "stdout",
     "output_type": "stream",
     "text": [
      "float64\n",
      "complex128\n",
      "int32\n",
      "complex64\n"
     ]
    }
   ],
   "source": [
    "# 数组的类型转换\n",
    "t1 = np.array([1, 2, 3, 4], dtype=np.float) \n",
    "t2 = np.array([1, 2, 3, 4], dtype=np.complex) \n",
    "t3 = t1.astype(np.int32)\n",
    "t4 = t2.astype(np.complex64)\n",
    "print(t1.dtype)\n",
    "print(t2.dtype)\n",
    "print(t3.dtype)\n",
    "print(t4.dtype)"
   ]
  },
  {
   "cell_type": "markdown",
   "metadata": {},
   "source": [
    "### ndarray对象：从数列创建\n",
    "- np.arange()\n",
    "    - 通过开始值、终值和步长来创建等差数列\n",
    "    - np.arange(0, 1, 0.1)\n",
    "    - 注意1不在数组中！\n",
    "- np.linspace()\n",
    "    - 通过开始值、终值和元素个数创建等差数列\n",
    "    - np.linspace(0, 1, 10)\n",
    "    - np.linspace(0, 1, 10, endpoint=False)\n",
    "    - 可以通过endpoint参数指定是否包含终值，默认值为True，即包含终值\n",
    "- np.logspace()\n",
    "    - 通过开始值、终值和元素个数创建等比数列\n",
    "    - np.logspace(0, 2, 5)\n",
    "    - np.logspace(0, 1, 12, base=2, endpoint=False)\n",
    "    - 可以通过base更改底数，默认为10\n",
    "    - 可以通过endpoint参数指定是否包含终值，默认值为True"
   ]
  },
  {
   "cell_type": "code",
   "execution_count": 22,
   "metadata": {},
   "outputs": [
    {
     "data": {
      "text/plain": [
       "array([0. , 0.1, 0.2, 0.3, 0.4, 0.5, 0.6, 0.7, 0.8, 0.9])"
      ]
     },
     "execution_count": 22,
     "metadata": {},
     "output_type": "execute_result"
    }
   ],
   "source": [
    "# 通过开始值、终值和步长来创建等差数列\n",
    "np.arange(0, 1, 0.1) # 从0开始，到1结束，步长0.1，注意1不在数组中！"
   ]
  },
  {
   "cell_type": "code",
   "execution_count": 24,
   "metadata": {},
   "outputs": [
    {
     "data": {
      "text/plain": [
       "array([0.        , 0.11111111, 0.22222222, 0.33333333, 0.44444444,\n",
       "       0.55555556, 0.66666667, 0.77777778, 0.88888889, 1.        ])"
      ]
     },
     "execution_count": 24,
     "metadata": {},
     "output_type": "execute_result"
    }
   ],
   "source": [
    "# 通过开始值、终值和元素个数创建等差数列\n",
    "np.linspace(0, 1, 10) # 从0开始，到1结束，10个元素的等差数列\n",
    "# np.linspace(0, 1, 10, endpoint=False) # 可以通过endpoint参数指定是否包含终值，默认值为True，即包含终值"
   ]
  },
  {
   "cell_type": "code",
   "execution_count": 29,
   "metadata": {},
   "outputs": [
    {
     "data": {
      "text/plain": [
       "array([1.        , 1.05946309, 1.12246205, 1.18920712, 1.25992105,\n",
       "       1.33483985, 1.41421356, 1.49830708, 1.58740105, 1.68179283,\n",
       "       1.78179744, 1.88774863])"
      ]
     },
     "execution_count": 29,
     "metadata": {},
     "output_type": "execute_result"
    }
   ],
   "source": [
    "# 通过开始值、终值和元素个数创建等比数列\n",
    "# np.logspace(0, 2, 5) # 从0开始，到2结束，5个元素的等比数列\n",
    "np.logspace(0, 1, 12, base=2, endpoint=False) # 可以通过base更改底数，默认为10\n",
    "# 可以通过endpoint参数指定是否包含终值，默认值为True"
   ]
  },
  {
   "cell_type": "markdown",
   "metadata": {},
   "source": [
    "### ndarray对象：下标存取\n",
    "- 下标方式：a[2]\n",
    "- 切片方式：\n",
    "    1. a[3:5] 包括a[3]但不包括a[5]\n",
    "    2. a[:5] 从a[0]开始\n",
    "    3. a[:-1] 用负数表示从后往前数\n",
    "    4. a[1:-1:2] 第三个元素表示步长，每两个元素取一个\n",
    "    5. a[::-1] 步长为负，整个数组顺序颠倒\n",
    "    6. a[5:1:-2]步长为负时，开始下标必须大于结束下标\n",
    "- 通过切片获取的数组是原数组的一个**“视图”**，与原数组**共享**同一存储空间,因此修改结果数组**会改变原始数组**"
   ]
  },
  {
   "cell_type": "code",
   "execution_count": 30,
   "metadata": {},
   "outputs": [],
   "source": [
    "a = np.array([1,2,3,4,5,6,7])"
   ]
  },
  {
   "cell_type": "code",
   "execution_count": 31,
   "metadata": {},
   "outputs": [
    {
     "data": {
      "text/plain": [
       "3"
      ]
     },
     "execution_count": 31,
     "metadata": {},
     "output_type": "execute_result"
    }
   ],
   "source": [
    "a[2]"
   ]
  },
  {
   "cell_type": "code",
   "execution_count": 32,
   "metadata": {},
   "outputs": [
    {
     "data": {
      "text/plain": [
       "array([4, 5])"
      ]
     },
     "execution_count": 32,
     "metadata": {},
     "output_type": "execute_result"
    }
   ],
   "source": [
    "a[3:5]"
   ]
  },
  {
   "cell_type": "code",
   "execution_count": 33,
   "metadata": {},
   "outputs": [
    {
     "data": {
      "text/plain": [
       "array([1, 2, 3, 4, 5])"
      ]
     },
     "execution_count": 33,
     "metadata": {},
     "output_type": "execute_result"
    }
   ],
   "source": [
    "a[:5]"
   ]
  },
  {
   "cell_type": "code",
   "execution_count": 34,
   "metadata": {},
   "outputs": [
    {
     "data": {
      "text/plain": [
       "array([1, 2, 3, 4, 5, 6])"
      ]
     },
     "execution_count": 34,
     "metadata": {},
     "output_type": "execute_result"
    }
   ],
   "source": [
    "a[:-1]"
   ]
  },
  {
   "cell_type": "code",
   "execution_count": 35,
   "metadata": {},
   "outputs": [
    {
     "data": {
      "text/plain": [
       "array([2, 4, 6])"
      ]
     },
     "execution_count": 35,
     "metadata": {},
     "output_type": "execute_result"
    }
   ],
   "source": [
    "a[1:-1:2]"
   ]
  },
  {
   "cell_type": "code",
   "execution_count": 36,
   "metadata": {},
   "outputs": [
    {
     "data": {
      "text/plain": [
       "array([7, 6, 5, 4, 3, 2, 1])"
      ]
     },
     "execution_count": 36,
     "metadata": {},
     "output_type": "execute_result"
    }
   ],
   "source": [
    "a[::-1]"
   ]
  },
  {
   "cell_type": "code",
   "execution_count": 37,
   "metadata": {},
   "outputs": [
    {
     "data": {
      "text/plain": [
       "array([6, 4])"
      ]
     },
     "execution_count": 37,
     "metadata": {},
     "output_type": "execute_result"
    }
   ],
   "source": [
    "a[5:1:-2]"
   ]
  },
  {
   "cell_type": "markdown",
   "metadata": {},
   "source": [
    "- 对多维数组，采用元组作为数组下标，逗号分隔\n",
    "- 为了避免出现问题，请 “显式”地使用元组作为下标\n",
    "- 整数元组/列表/数组，布尔数组作为下标\n",
    "    - 多维数组的下标元组中，也可以使用整数元组或列表、整数数组和布尔数组\n",
    "    - 当下标中使用这些对象时，所获得的数椐是原始数据的**副本**，因此修改结果数组**不会改变原始数组**。"
   ]
  },
  {
   "cell_type": "code",
   "execution_count": 40,
   "metadata": {},
   "outputs": [
    {
     "name": "stdout",
     "output_type": "stream",
     "text": [
      "x =  [5 4 3 2 1]\n",
      "a =  [5 3]\n",
      "b =  [5 4 3]\n",
      "c =  [5 3]\n"
     ]
    }
   ],
   "source": [
    "x = np.arange(5,0,-1)\n",
    "a = x[np.array([True, False, True, False, False])]\n",
    "b = x[x>2]\n",
    "c = x[[True, False, True, False, False]]\n",
    "print('x = ', x)\n",
    "print('a = ', a)\n",
    "print('b = ', b)\n",
    "print('c = ', c)"
   ]
  },
  {
   "cell_type": "code",
   "execution_count": 41,
   "metadata": {},
   "outputs": [
    {
     "name": "stdout",
     "output_type": "stream",
     "text": [
      "b =  [2233    4    3]\n",
      "x =  [5 4 3 2 1]\n",
      "a =  [5 3]\n"
     ]
    }
   ],
   "source": [
    "# 使用列表作为下标得到的数组不与原数组共享内存空间，对它的更改不反映到原数组上\n",
    "b[0] = 2233\n",
    "print('b = ', b)\n",
    "print('x = ', x)\n",
    "print('a = ', a)"
   ]
  },
  {
   "cell_type": "markdown",
   "metadata": {},
   "source": [
    "- 如果下标元组中只包含**整数**和**切片**，那么得到的数组和原始数组**共享数据**，它是原数组的**视图**\n",
    "- 如果下标元组中还包含**整数元组或列表、整数数组和布尔数组**，所获得的数椐是原始数据的**副本**，**不**与原始数组共享数据\n",
    "- 提示：\n",
    "    1. python中共享内存对象的情况非常普遍\n",
    "    2. 用惯了c的，拿python数组都当指针好了\n",
    "    3. 用惯了matlab的，记得用deepcopy"
   ]
  },
  {
   "cell_type": "markdown",
   "metadata": {},
   "source": [
    "## ufunc函数\n",
    "- ufunc是universal function的缩写，它是一种对数组的每个元素进行运算的函数\n",
    "- NumPy内置的许多ufunc函数都是用c语言实现的，速度很快\n",
    "    - x = np.linspace(0, 2*np.pi, 10) \n",
    "    - y = np.sin(x)\n",
    "    - t = np.sin(x, out=x)\n",
    "- NumPy的数组对象支持加减乘除等操作\n",
    "    - 因为加减乘除操作在NumPy中使用ufunc实现，实际上是调用了ufunc\n",
    "\n",
    "### ufunc的算术运算符/比较运算符\n",
    "- 算术运算符：加减乘除乘方同余...\n",
    "- 比较运算符：大于小于等于不等于...\n",
    "- 数组对象支持操作符，极大的方便了程序编写。但是要注意如果算式很复杂、数组很大的时候，会产生过多的中间变量，降低程序运行速度。\n",
    "- 可以适当考虑多用原位操作符，例如 x += y，复杂算式多分几行，减少对中间变量的内存分配"
   ]
  },
  {
   "cell_type": "code",
   "execution_count": 42,
   "metadata": {},
   "outputs": [],
   "source": [
    "x1 = np.array([1,2,3,4])\n",
    "x2 = np.array([5,6,7,8])"
   ]
  },
  {
   "cell_type": "code",
   "execution_count": 43,
   "metadata": {},
   "outputs": [
    {
     "name": "stdout",
     "output_type": "stream",
     "text": [
      "[ 6  8 10 12]\n"
     ]
    }
   ],
   "source": [
    "y = x1 + x2 # add\n",
    "print(y)"
   ]
  },
  {
   "cell_type": "code",
   "execution_count": 44,
   "metadata": {},
   "outputs": [
    {
     "name": "stdout",
     "output_type": "stream",
     "text": [
      "[-4 -4 -4 -4]\n"
     ]
    }
   ],
   "source": [
    "y = x1 - x2 # subtract\n",
    "print(y)"
   ]
  },
  {
   "cell_type": "code",
   "execution_count": 45,
   "metadata": {},
   "outputs": [
    {
     "name": "stdout",
     "output_type": "stream",
     "text": [
      "[ 5 12 21 32]\n"
     ]
    }
   ],
   "source": [
    "y = x1 * x2 # multiply\n",
    "print(y)"
   ]
  },
  {
   "cell_type": "code",
   "execution_count": 46,
   "metadata": {},
   "outputs": [
    {
     "name": "stdout",
     "output_type": "stream",
     "text": [
      "[0.2        0.33333333 0.42857143 0.5       ]\n"
     ]
    }
   ],
   "source": [
    "y = x1 / x2 # divide\n",
    "print(y)"
   ]
  },
  {
   "cell_type": "code",
   "execution_count": 47,
   "metadata": {},
   "outputs": [
    {
     "name": "stdout",
     "output_type": "stream",
     "text": [
      "[0 0 0 0]\n"
     ]
    }
   ],
   "source": [
    "y = x1 // x2 # floor divide\n",
    "print(y)"
   ]
  },
  {
   "cell_type": "code",
   "execution_count": 48,
   "metadata": {},
   "outputs": [
    {
     "name": "stdout",
     "output_type": "stream",
     "text": [
      "[-1 -2 -3 -4]\n"
     ]
    }
   ],
   "source": [
    "y = -x1 # negative\n",
    "print(y)"
   ]
  },
  {
   "cell_type": "code",
   "execution_count": 49,
   "metadata": {},
   "outputs": [
    {
     "name": "stdout",
     "output_type": "stream",
     "text": [
      "[    1    64  2187 65536]\n"
     ]
    }
   ],
   "source": [
    "y = x1 ** x2 # power\n",
    "print(y)"
   ]
  },
  {
   "cell_type": "code",
   "execution_count": 50,
   "metadata": {},
   "outputs": [
    {
     "name": "stdout",
     "output_type": "stream",
     "text": [
      "[1 2 3 4]\n"
     ]
    }
   ],
   "source": [
    "y = x1 % x2 # remainder\n",
    "print(y)"
   ]
  },
  {
   "cell_type": "code",
   "execution_count": 51,
   "metadata": {},
   "outputs": [
    {
     "name": "stdout",
     "output_type": "stream",
     "text": [
      "[2 4 6 8]\n"
     ]
    }
   ],
   "source": [
    "y += x1 # 原位操作符\n",
    "print(y)"
   ]
  },
  {
   "cell_type": "code",
   "execution_count": 52,
   "metadata": {},
   "outputs": [
    {
     "name": "stdout",
     "output_type": "stream",
     "text": [
      "[False False False False]\n"
     ]
    }
   ],
   "source": [
    "y = x1 == x2 # equal\n",
    "print(y)"
   ]
  },
  {
   "cell_type": "code",
   "execution_count": 53,
   "metadata": {},
   "outputs": [
    {
     "name": "stdout",
     "output_type": "stream",
     "text": [
      "[ True  True  True  True]\n"
     ]
    }
   ],
   "source": [
    "y = x1 != x2 # not equal\n",
    "print(y)"
   ]
  },
  {
   "cell_type": "code",
   "execution_count": 54,
   "metadata": {},
   "outputs": [
    {
     "name": "stdout",
     "output_type": "stream",
     "text": [
      "[ True  True  True  True]\n"
     ]
    }
   ],
   "source": [
    "y = x1 < x2 # less\n",
    "print(y)"
   ]
  },
  {
   "cell_type": "code",
   "execution_count": 55,
   "metadata": {},
   "outputs": [
    {
     "name": "stdout",
     "output_type": "stream",
     "text": [
      "[ True  True  True  True]\n"
     ]
    }
   ],
   "source": [
    "y = x1 <= x2 # less_equal\n",
    "print(y)"
   ]
  },
  {
   "cell_type": "code",
   "execution_count": 56,
   "metadata": {},
   "outputs": [
    {
     "name": "stdout",
     "output_type": "stream",
     "text": [
      "[False False False False]\n"
     ]
    }
   ],
   "source": [
    "y = x1 > x2 # greater\n",
    "print(y)"
   ]
  },
  {
   "cell_type": "code",
   "execution_count": 57,
   "metadata": {},
   "outputs": [
    {
     "name": "stdout",
     "output_type": "stream",
     "text": [
      "[False False False False]\n"
     ]
    }
   ],
   "source": [
    "y = x1 >= x2 # greater_equal\n",
    "print(y)"
   ]
  },
  {
   "cell_type": "markdown",
   "metadata": {},
   "source": [
    "### ufunc函数：自定义\n",
    "- 使用frompyfunc(func, nin, nout) \n",
    "- 其中func是python函数，nin是func的输入参数个数，nout是func的返回值个数\n",
    "- 如果ufunc输入参数有多个数组，形状不同，会自动进行广播操作\n",
    "    1. 让所有输入数组都向其中维数最多的数组看齐，shape属性中不足的部分都通过在前面加1补齐\n",
    "    2. 输出数组的shape属性是输入数组的shape属性的各个轴上的最大值\n",
    "    3. 如果输入数组的某个轴的长度为1或与输出数组的对应轴的长度相同，这个数组能够用来计算，否则出错\n",
    "    4. 当输入数组的某个轴的长度为1吋，沿着此轴运算时都用此轴上的第一组值!"
   ]
  },
  {
   "cell_type": "code",
   "execution_count": 58,
   "metadata": {},
   "outputs": [
    {
     "name": "stdout",
     "output_type": "stream",
     "text": [
      "[1.0 2.0 5.0 10.0 17.0 26.0 37.0 50.0 65.0 82.0 101.0]\n"
     ]
    }
   ],
   "source": [
    "# 自定义ufunc\n",
    "def myfunc(x):\n",
    "    return x**2 + 1\n",
    "my_ufunc = np.frompyfunc(myfunc, 1, 1)\n",
    "x = np.linspace(0,10,11)\n",
    "y = my_ufunc(x)\n",
    "print(y)"
   ]
  },
  {
   "cell_type": "markdown",
   "metadata": {},
   "source": [
    "## Numpy常用函数\n",
    "- numpy自带大量的函数，可以基本覆盖常见线性代数运算和随机数生成。配合更庞大的scipy，基本能够满足常见科学计算的需求。\n",
    "- numpy和scipy配合，基本和matlab旗鼓相当。matlab速度上略胜一筹，但仍然不是很快。python胜在生态，包罗万象，语言本身的速度短板靠生态来补。\n",
    "- python目前也有挑战者，比如开源的julia、Go、R，各有优势，但软件生态都不如python丰富。python永远开源的政策可以保证它的软件生态的发展。"
   ]
  },
  {
   "cell_type": "markdown",
   "metadata": {},
   "source": [
    "### 随机数"
   ]
  },
  {
   "cell_type": "code",
   "execution_count": 59,
   "metadata": {},
   "outputs": [],
   "source": [
    "import numpy as np\n",
    "import matplotlib.pyplot as plt # 画图用matplotlib"
   ]
  },
  {
   "cell_type": "code",
   "execution_count": 61,
   "metadata": {},
   "outputs": [
    {
     "data": {
      "text/plain": [
       "(array([ 933., 1059., 1045.,  980., 1058., 1001., 1026.,  952.,  970.,\n",
       "         976.]),\n",
       " array([1.50453721e-04, 1.00127413e-01, 2.00104372e-01, 3.00081331e-01,\n",
       "        4.00058291e-01, 5.00035250e-01, 6.00012209e-01, 6.99989168e-01,\n",
       "        7.99966128e-01, 8.99943087e-01, 9.99920046e-01]),\n",
       " <a list of 10 Patch objects>)"
      ]
     },
     "execution_count": 61,
     "metadata": {},
     "output_type": "execute_result"
    },
    {
     "data": {
      "image/png": "[encoded data removed]",
      "text/plain": [
       "<Figure size 432x288 with 1 Axes>"
      ]
     },
     "metadata": {
      "needs_background": "light"
     },
     "output_type": "display_data"
    }
   ],
   "source": [
    "# 0到1之间的随机数\n",
    "a = np.random.rand(10000)\n",
    "plt.hist(a)\n",
    "#plt.show()"
   ]
  },
  {
   "cell_type": "code",
   "execution_count": 62,
   "metadata": {},
   "outputs": [
    {
     "data": {
      "text/plain": [
       "(array([121.,   0.,   0.,   0.,   0.,   0.,   0.,   0.,   0.,   0.,   0.,\n",
       "          0., 107.,   0.,   0.,   0.,   0.,   0.,   0.,   0.,   0.,   0.,\n",
       "          0.,   0.,   0., 108.,   0.,   0.,   0.,   0.,   0.,   0.,   0.,\n",
       "          0.,   0.,   0.,   0., 110.,   0.,   0.,   0.,   0.,   0.,   0.,\n",
       "          0.,   0.,   0.,   0.,   0.,   0.,  97.,   0.,   0.,   0.,   0.,\n",
       "          0.,   0.,   0.,   0.,   0.,   0.,   0., 105.,   0.,   0.,   0.,\n",
       "          0.,   0.,   0.,   0.,   0.,   0.,   0.,   0.,   0., 132.,   0.,\n",
       "          0.,   0.,   0.,   0.,   0.,   0.,   0.,   0.,   0.,   0., 115.,\n",
       "          0.,   0.,   0.,   0.,   0.,   0.,   0.,   0.,   0.,   0.,   0.,\n",
       "        105.]),\n",
       " array([1.  , 1.08, 1.16, 1.24, 1.32, 1.4 , 1.48, 1.56, 1.64, 1.72, 1.8 ,\n",
       "        1.88, 1.96, 2.04, 2.12, 2.2 , 2.28, 2.36, 2.44, 2.52, 2.6 , 2.68,\n",
       "        2.76, 2.84, 2.92, 3.  , 3.08, 3.16, 3.24, 3.32, 3.4 , 3.48, 3.56,\n",
       "        3.64, 3.72, 3.8 , 3.88, 3.96, 4.04, 4.12, 4.2 , 4.28, 4.36, 4.44,\n",
       "        4.52, 4.6 , 4.68, 4.76, 4.84, 4.92, 5.  , 5.08, 5.16, 5.24, 5.32,\n",
       "        5.4 , 5.48, 5.56, 5.64, 5.72, 5.8 , 5.88, 5.96, 6.04, 6.12, 6.2 ,\n",
       "        6.28, 6.36, 6.44, 6.52, 6.6 , 6.68, 6.76, 6.84, 6.92, 7.  , 7.08,\n",
       "        7.16, 7.24, 7.32, 7.4 , 7.48, 7.56, 7.64, 7.72, 7.8 , 7.88, 7.96,\n",
       "        8.04, 8.12, 8.2 , 8.28, 8.36, 8.44, 8.52, 8.6 , 8.68, 8.76, 8.84,\n",
       "        8.92, 9.  ]),\n",
       " <a list of 100 Patch objects>)"
      ]
     },
     "execution_count": 62,
     "metadata": {},
     "output_type": "execute_result"
    },
    {
     "data": {
      "image/png": "[encoded data removed]",
      "text/plain": [
       "<Figure size 432x288 with 1 Axes>"
      ]
     },
     "metadata": {
      "needs_background": "light"
     },
     "output_type": "display_data"
    }
   ],
   "source": [
    "# 指定范围随机整数\n",
    "a = np.random.randint(1,10,1000)\n",
    "plt.hist(a,100)"
   ]
  },
  {
   "cell_type": "code",
   "execution_count": 63,
   "metadata": {},
   "outputs": [
    {
     "data": {
      "text/plain": [
       "(array([102.,  94., 109., 105.,  89., 120.,  96.,  96., 107., 110., 107.,\n",
       "        105., 113., 103.,  97., 109.,  96., 103., 105., 101., 102., 100.,\n",
       "        104.,  99.,  91.,  82.,  92., 112.,  83.,  97., 105.,  99., 117.,\n",
       "        100., 103., 104.,  99.,  94., 102.,  83., 117.,  98.,  97., 103.,\n",
       "        108., 102.,  85., 118., 102.,  81., 107., 113.,  96., 109., 106.,\n",
       "         84.,  87., 109., 102., 104., 108., 108.,  86.,  85., 109.,  82.,\n",
       "         98., 119.,  95., 102.,  92.,  99.,  95., 101., 113.,  92., 107.,\n",
       "        111.,  96.,  99.,  89., 111.,  85.,  97., 103., 108.,  93., 101.,\n",
       "         83.,  87., 123., 106., 107., 103.,  91.,  92.,  98.,  85.,  89.,\n",
       "         89.]),\n",
       " array([1.0005014 , 1.09049289, 1.18048439, 1.27047589, 1.36046739,\n",
       "        1.45045889, 1.54045039, 1.63044189, 1.72043338, 1.81042488,\n",
       "        1.90041638, 1.99040788, 2.08039938, 2.17039088, 2.26038238,\n",
       "        2.35037387, 2.44036537, 2.53035687, 2.62034837, 2.71033987,\n",
       "        2.80033137, 2.89032286, 2.98031436, 3.07030586, 3.16029736,\n",
       "        3.25028886, 3.34028036, 3.43027186, 3.52026335, 3.61025485,\n",
       "        3.70024635, 3.79023785, 3.88022935, 3.97022085, 4.06021235,\n",
       "        4.15020384, 4.24019534, 4.33018684, 4.42017834, 4.51016984,\n",
       "        4.60016134, 4.69015284, 4.78014433, 4.87013583, 4.96012733,\n",
       "        5.05011883, 5.14011033, 5.23010183, 5.32009333, 5.41008482,\n",
       "        5.50007632, 5.59006782, 5.68005932, 5.77005082, 5.86004232,\n",
       "        5.95003382, 6.04002531, 6.13001681, 6.22000831, 6.30999981,\n",
       "        6.39999131, 6.48998281, 6.57997431, 6.6699658 , 6.7599573 ,\n",
       "        6.8499488 , 6.9399403 , 7.0299318 , 7.1199233 , 7.2099148 ,\n",
       "        7.29990629, 7.38989779, 7.47988929, 7.56988079, 7.65987229,\n",
       "        7.74986379, 7.83985529, 7.92984678, 8.01983828, 8.10982978,\n",
       "        8.19982128, 8.28981278, 8.37980428, 8.46979577, 8.55978727,\n",
       "        8.64977877, 8.73977027, 8.82976177, 8.91975327, 9.00974477,\n",
       "        9.09973626, 9.18972776, 9.27971926, 9.36971076, 9.45970226,\n",
       "        9.54969376, 9.63968526, 9.72967675, 9.81966825, 9.90965975,\n",
       "        9.99965125]),\n",
       " <a list of 100 Patch objects>)"
      ]
     },
     "execution_count": 63,
     "metadata": {},
     "output_type": "execute_result"
    },
    {
     "data": {
      "image/png": "[encoded data removed]",
      "text/plain": [
       "<Figure size 432x288 with 1 Axes>"
      ]
     },
     "metadata": {
      "needs_background": "light"
     },
     "output_type": "display_data"
    }
   ],
   "source": [
    "# 均匀分布随机浮点数\n",
    "a = np.random.uniform(1,10,10000)\n",
    "plt.hist(a,100)"
   ]
  },
  {
   "cell_type": "code",
   "execution_count": 69,
   "metadata": {},
   "outputs": [
    {
     "name": "stdout",
     "output_type": "stream",
     "text": [
      "[6 2 0 4 1 9 8 5 3 7]\n"
     ]
    }
   ],
   "source": [
    "# 随机排列\n",
    "a = np.random.permutation(10)\n",
    "print(a)"
   ]
  },
  {
   "cell_type": "code",
   "execution_count": 75,
   "metadata": {},
   "outputs": [
    {
     "name": "stdout",
     "output_type": "stream",
     "text": [
      "2233\n"
     ]
    }
   ],
   "source": [
    "# 随机抽取\n",
    "a = np.random.choice([1,2,3,4,'2233','张三','韩梅梅'])\n",
    "print(a)"
   ]
  },
  {
   "cell_type": "code",
   "execution_count": 76,
   "metadata": {},
   "outputs": [
    {
     "name": "stdout",
     "output_type": "stream",
     "text": [
      "[[ 2.84376775 -6.25695144  4.5391187   1.92175662]\n",
      " [ 5.28209951  6.93316492  8.34480431  8.74342113]]\n"
     ]
    }
   ],
   "source": [
    "# 标准正态分布随机数\n",
    "a = 2.5 * np.random.randn(2, 4) + 3\n",
    "print(a)"
   ]
  },
  {
   "cell_type": "code",
   "execution_count": 77,
   "metadata": {},
   "outputs": [
    {
     "data": {
      "text/plain": [
       "(array([  2.,   1.,   0.,   1.,   1.,   1.,   4.,   1.,   2.,   6.,   6.,\n",
       "          3.,  12.,   9.,   8.,   8.,  11.,  19.,  24.,  15.,  30.,  38.,\n",
       "         41.,  57.,  40.,  49.,  57.,  66., 111.,  89., 107., 109., 135.,\n",
       "        124., 153., 165., 166., 168., 182., 213., 207., 244., 216., 298.,\n",
       "        263., 262., 293., 294., 281., 272., 332., 271., 300., 305., 276.,\n",
       "        278., 253., 262., 274., 239., 208., 192., 189., 184., 164., 143.,\n",
       "        143., 130., 127., 109.,  92.,  81.,  92.,  64.,  61.,  58.,  55.,\n",
       "         41.,  25.,  37.,  25.,  19.,  16.,  18.,  17.,  11.,   7.,   7.,\n",
       "          4.,   9.,   5.,   5.,   4.,   1.,   2.,   0.,   0.,   0.,   0.,\n",
       "          1.]), array([-10.53057495, -10.27255452, -10.01453409,  -9.75651365,\n",
       "         -9.49849322,  -9.24047278,  -8.98245235,  -8.72443192,\n",
       "         -8.46641148,  -8.20839105,  -7.95037061,  -7.69235018,\n",
       "         -7.43432974,  -7.17630931,  -6.91828888,  -6.66026844,\n",
       "         -6.40224801,  -6.14422757,  -5.88620714,  -5.62818671,\n",
       "         -5.37016627,  -5.11214584,  -4.8541254 ,  -4.59610497,\n",
       "         -4.33808454,  -4.0800641 ,  -3.82204367,  -3.56402323,\n",
       "         -3.3060028 ,  -3.04798236,  -2.78996193,  -2.5319415 ,\n",
       "         -2.27392106,  -2.01590063,  -1.75788019,  -1.49985976,\n",
       "         -1.24183933,  -0.98381889,  -0.72579846,  -0.46777802,\n",
       "         -0.20975759,   0.04826284,   0.30628328,   0.56430371,\n",
       "          0.82232415,   1.08034458,   1.33836502,   1.59638545,\n",
       "          1.85440588,   2.11242632,   2.37044675,   2.62846719,\n",
       "          2.88648762,   3.14450805,   3.40252849,   3.66054892,\n",
       "          3.91856936,   4.17658979,   4.43461022,   4.69263066,\n",
       "          4.95065109,   5.20867153,   5.46669196,   5.7247124 ,\n",
       "          5.98273283,   6.24075326,   6.4987737 ,   6.75679413,\n",
       "          7.01481457,   7.272835  ,   7.53085543,   7.78887587,\n",
       "          8.0468963 ,   8.30491674,   8.56293717,   8.8209576 ,\n",
       "          9.07897804,   9.33699847,   9.59501891,   9.85303934,\n",
       "         10.11105978,  10.36908021,  10.62710064,  10.88512108,\n",
       "         11.14314151,  11.40116195,  11.65918238,  11.91720281,\n",
       "         12.17522325,  12.43324368,  12.69126412,  12.94928455,\n",
       "         13.20730498,  13.46532542,  13.72334585,  13.98136629,\n",
       "         14.23938672,  14.49740715,  14.75542759,  15.01344802,\n",
       "         15.27146846]), <a list of 100 Patch objects>)"
      ]
     },
     "execution_count": 77,
     "metadata": {},
     "output_type": "execute_result"
    },
    {
     "data": {
      "image/png": "[encoded data removed]",
      "text/plain": [
       "<Figure size 432x288 with 1 Axes>"
      ]
     },
     "metadata": {
      "needs_background": "light"
     },
     "output_type": "display_data"
    }
   ],
   "source": [
    "# 正态分布随机数\n",
    "mu = 2.5\n",
    "sigma = 3.5\n",
    "a = np.random.normal(mu, sigma, 10000)\n",
    "plt.hist(a,100)"
   ]
  },
  {
   "cell_type": "code",
   "execution_count": 78,
   "metadata": {},
   "outputs": [
    {
     "data": {
      "text/plain": [
       "(array([7.200e+01, 0.000e+00, 0.000e+00, 0.000e+00, 0.000e+00, 0.000e+00,\n",
       "        3.640e+02, 0.000e+00, 0.000e+00, 0.000e+00, 0.000e+00, 0.000e+00,\n",
       "        8.730e+02, 0.000e+00, 0.000e+00, 0.000e+00, 0.000e+00, 0.000e+00,\n",
       "        1.414e+03, 0.000e+00, 0.000e+00, 0.000e+00, 0.000e+00, 0.000e+00,\n",
       "        0.000e+00, 1.703e+03, 0.000e+00, 0.000e+00, 0.000e+00, 0.000e+00,\n",
       "        0.000e+00, 1.736e+03, 0.000e+00, 0.000e+00, 0.000e+00, 0.000e+00,\n",
       "        0.000e+00, 1.489e+03, 0.000e+00, 0.000e+00, 0.000e+00, 0.000e+00,\n",
       "        0.000e+00, 1.027e+03, 0.000e+00, 0.000e+00, 0.000e+00, 0.000e+00,\n",
       "        0.000e+00, 0.000e+00, 6.460e+02, 0.000e+00, 0.000e+00, 0.000e+00,\n",
       "        0.000e+00, 0.000e+00, 3.370e+02, 0.000e+00, 0.000e+00, 0.000e+00,\n",
       "        0.000e+00, 0.000e+00, 1.930e+02, 0.000e+00, 0.000e+00, 0.000e+00,\n",
       "        0.000e+00, 0.000e+00, 9.500e+01, 0.000e+00, 0.000e+00, 0.000e+00,\n",
       "        0.000e+00, 0.000e+00, 0.000e+00, 3.000e+01, 0.000e+00, 0.000e+00,\n",
       "        0.000e+00, 0.000e+00, 0.000e+00, 1.500e+01, 0.000e+00, 0.000e+00,\n",
       "        0.000e+00, 0.000e+00, 0.000e+00, 3.000e+00, 0.000e+00, 0.000e+00,\n",
       "        0.000e+00, 0.000e+00, 0.000e+00, 2.000e+00, 0.000e+00, 0.000e+00,\n",
       "        0.000e+00, 0.000e+00, 0.000e+00, 1.000e+00]),\n",
       " array([ 0.  ,  0.16,  0.32,  0.48,  0.64,  0.8 ,  0.96,  1.12,  1.28,\n",
       "         1.44,  1.6 ,  1.76,  1.92,  2.08,  2.24,  2.4 ,  2.56,  2.72,\n",
       "         2.88,  3.04,  3.2 ,  3.36,  3.52,  3.68,  3.84,  4.  ,  4.16,\n",
       "         4.32,  4.48,  4.64,  4.8 ,  4.96,  5.12,  5.28,  5.44,  5.6 ,\n",
       "         5.76,  5.92,  6.08,  6.24,  6.4 ,  6.56,  6.72,  6.88,  7.04,\n",
       "         7.2 ,  7.36,  7.52,  7.68,  7.84,  8.  ,  8.16,  8.32,  8.48,\n",
       "         8.64,  8.8 ,  8.96,  9.12,  9.28,  9.44,  9.6 ,  9.76,  9.92,\n",
       "        10.08, 10.24, 10.4 , 10.56, 10.72, 10.88, 11.04, 11.2 , 11.36,\n",
       "        11.52, 11.68, 11.84, 12.  , 12.16, 12.32, 12.48, 12.64, 12.8 ,\n",
       "        12.96, 13.12, 13.28, 13.44, 13.6 , 13.76, 13.92, 14.08, 14.24,\n",
       "        14.4 , 14.56, 14.72, 14.88, 15.04, 15.2 , 15.36, 15.52, 15.68,\n",
       "        15.84, 16.  ]),\n",
       " <a list of 100 Patch objects>)"
      ]
     },
     "execution_count": 78,
     "metadata": {},
     "output_type": "execute_result"
    },
    {
     "data": {
      "image/png": "[encoded data removed]",
      "text/plain": [
       "<Figure size 432x288 with 1 Axes>"
      ]
     },
     "metadata": {
      "needs_background": "light"
     },
     "output_type": "display_data"
    }
   ],
   "source": [
    "# 泊松分布随机数\n",
    "a = np.random.poisson(5,10000)\n",
    "plt.hist(a,100)"
   ]
  },
  {
   "cell_type": "code",
   "execution_count": 88,
   "metadata": {},
   "outputs": [
    {
     "name": "stdout",
     "output_type": "stream",
     "text": [
      "original array: \n",
      " [[1 2 3]\n",
      " [4 5 6]\n",
      " [7 8 9]]\n",
      "shuffled array: \n",
      " [[7 8 9]\n",
      " [4 5 6]\n",
      " [1 2 3]]\n"
     ]
    }
   ],
   "source": [
    "# 随机乱序洗牌\n",
    "# 只接受一个参数，必须是numpy数组\n",
    "a = np.array([[1,2,3],[4,5,6],[7,8,9]])\n",
    "print('original array: \\n', a)\n",
    "np.random.shuffle(a) \n",
    "print('shuffled array: \\n', a)"
   ]
  },
  {
   "cell_type": "code",
   "execution_count": 95,
   "metadata": {},
   "outputs": [
    {
     "name": "stdout",
     "output_type": "stream",
     "text": [
      "0.5488135039273248\n",
      "0.5488135039273248\n",
      "0.5488135039273248\n",
      "0.5488135039273248\n",
      "0.5488135039273248\n",
      "0.5488135039273248\n",
      "0.5488135039273248\n",
      "0.5488135039273248\n",
      "0.5488135039273248\n",
      "0.5488135039273248\n"
     ]
    }
   ],
   "source": [
    "# 设置随机数种子\n",
    "for i in range(10):\n",
    "    np.random.seed(0)\n",
    "    a = np.random.rand()\n",
    "    print(a)"
   ]
  },
  {
   "cell_type": "markdown",
   "metadata": {},
   "source": [
    "### 求和求积、均值方差"
   ]
  },
  {
   "cell_type": "code",
   "execution_count": 96,
   "metadata": {},
   "outputs": [
    {
     "name": "stdout",
     "output_type": "stream",
     "text": [
      "[ 0  1  2  3  4  5  6  7  8  9 10 11 12 13 14 15 16 17 18 19 20 21 22 23\n",
      " 24 25 26 27 28 29 30 31 32 33 34 35 36 37 38 39 40 41 42 43 44 45 46 47\n",
      " 48 49 50 51 52 53 54 55 56 57 58 59 60 61 62 63 64 65 66 67 68 69 70 71\n",
      " 72 73 74 75 76 77 78 79 80 81 82 83 84 85 86 87 88 89 90 91 92 93 94 95\n",
      " 96 97 98 99]\n",
      "[[ 0  1  2  3  4  5  6  7  8  9 10 11 12 13 14 15 16 17 18 19]\n",
      " [20 21 22 23 24 25 26 27 28 29 30 31 32 33 34 35 36 37 38 39]\n",
      " [40 41 42 43 44 45 46 47 48 49 50 51 52 53 54 55 56 57 58 59]\n",
      " [60 61 62 63 64 65 66 67 68 69 70 71 72 73 74 75 76 77 78 79]\n",
      " [80 81 82 83 84 85 86 87 88 89 90 91 92 93 94 95 96 97 98 99]]\n"
     ]
    }
   ],
   "source": [
    "a = np.arange(100)\n",
    "b = a.reshape((5,20))\n",
    "print(a)\n",
    "print(b)"
   ]
  },
  {
   "cell_type": "code",
   "execution_count": 97,
   "metadata": {},
   "outputs": [
    {
     "name": "stdout",
     "output_type": "stream",
     "text": [
      "4950\n",
      "[200 205 210 215 220 225 230 235 240 245 250 255 260 265 270 275 280 285\n",
      " 290 295]\n"
     ]
    }
   ],
   "source": [
    "# 求和 python标准库\n",
    "print(sum(a))\n",
    "print(sum(b))"
   ]
  },
  {
   "cell_type": "code",
   "execution_count": 89,
   "metadata": {},
   "outputs": [
    {
     "name": "stdout",
     "output_type": "stream",
     "text": [
      "4950\n",
      "4950\n",
      "[200 205 210 215 220 225 230 235 240 245 250 255 260 265 270 275 280 285\n",
      " 290 295]\n",
      "[ 190  590  990 1390 1790]\n"
     ]
    }
   ],
   "source": [
    "# 求和 numpy\n",
    "print(np.sum(a))\n",
    "print(np.sum(b))\n",
    "print(np.sum(b,axis=0)) # 沿第0轴下标求和（变化第0轴下标，其它轴不变，放在一起求和）\n",
    "print(np.sum(b,axis=1)) # 沿第1轴下标求和（变化第1轴下标，其它轴不变，放在一起求和）"
   ]
  },
  {
   "cell_type": "code",
   "execution_count": 98,
   "metadata": {},
   "outputs": [
    {
     "name": "stdout",
     "output_type": "stream",
     "text": [
      "190.0\n",
      "590.0\n",
      "990.0\n",
      "1390.0\n",
      "1790.0\n"
     ]
    }
   ],
   "source": [
    "for i in range(5):\n",
    "    s = 0.0\n",
    "    for j in range(20):\n",
    "        s += b[i,j]\n",
    "    print(s)"
   ]
  },
  {
   "cell_type": "code",
   "execution_count": 99,
   "metadata": {},
   "outputs": [
    {
     "name": "stdout",
     "output_type": "stream",
     "text": [
      "[[[ 0  1  2  3  4  5  6  7  8  9]\n",
      "  [10 11 12 13 14 15 16 17 18 19]\n",
      "  [20 21 22 23 24 25 26 27 28 29]\n",
      "  [30 31 32 33 34 35 36 37 38 39]\n",
      "  [40 41 42 43 44 45 46 47 48 49]]\n",
      "\n",
      " [[50 51 52 53 54 55 56 57 58 59]\n",
      "  [60 61 62 63 64 65 66 67 68 69]\n",
      "  [70 71 72 73 74 75 76 77 78 79]\n",
      "  [80 81 82 83 84 85 86 87 88 89]\n",
      "  [90 91 92 93 94 95 96 97 98 99]]]\n",
      "(2, 5, 10)\n"
     ]
    }
   ],
   "source": [
    "c = a.reshape(2,5,10)\n",
    "print(c)\n",
    "print(c.shape)"
   ]
  },
  {
   "cell_type": "code",
   "execution_count": 100,
   "metadata": {},
   "outputs": [
    {
     "name": "stdout",
     "output_type": "stream",
     "text": [
      "[[ 50  52  54  56  58  60  62  64  66  68]\n",
      " [ 70  72  74  76  78  80  82  84  86  88]\n",
      " [ 90  92  94  96  98 100 102 104 106 108]\n",
      " [110 112 114 116 118 120 122 124 126 128]\n",
      " [130 132 134 136 138 140 142 144 146 148]]\n",
      "[[100 105 110 115 120 125 130 135 140 145]\n",
      " [350 355 360 365 370 375 380 385 390 395]]\n",
      "[[ 45 145 245 345 445]\n",
      " [545 645 745 845 945]]\n"
     ]
    }
   ],
   "source": [
    "print(np.sum(c,axis=0)) # 沿第0轴下标求和（变化第0轴下标，其它轴不变，放在一起求和）\n",
    "print(np.sum(c,axis=1)) # 沿第1轴下标求和（变化第1轴下标，其它轴不变，放在一起求和）\n",
    "print(np.sum(c,axis=2)) # 沿第2轴下标求和（变化第2轴下标，其它轴不变，放在一起求和）"
   ]
  },
  {
   "cell_type": "code",
   "execution_count": 101,
   "metadata": {},
   "outputs": [
    {
     "name": "stdout",
     "output_type": "stream",
     "text": [
      "[[   0   51  104  159  216  275  336  399  464  531]\n",
      " [ 600  671  744  819  896  975 1056 1139 1224 1311]\n",
      " [1400 1491 1584 1679 1776 1875 1976 2079 2184 2291]\n",
      " [2400 2511 2624 2739 2856 2975 3096 3219 3344 3471]\n",
      " [3600 3731 3864 3999 4136 4275 4416 4559 4704 4851]]\n",
      "[[         0     293601     709632    1272843    2010624    2953125\n",
      "     4133376    5587407    7354368    9476649]\n",
      " [1512000000 1628113851 1751173632 1881483093 2019354624 2165109375\n",
      "  2319077376 2481597657 2653018368 2833696899]]\n",
      "[[                  0        335221286400      72684900288000\n",
      "     2306992893004800   29820834418636800]\n",
      " [ 227991539359584000 1233909752121446400 5227941748053024000\n",
      "     5769992716765184 1193853638847869952]]\n"
     ]
    }
   ],
   "source": [
    "# 连乘\n",
    "print(np.product(c,axis=0)) # 沿第0轴下标连乘（变化第0轴下标，其它轴不变，放在一起连乘）\n",
    "print(np.product(c,axis=1)) # 沿第1轴下标连乘（变化第1轴下标，其它轴不变，放在一起连乘）\n",
    "print(np.product(c,axis=2)) # 沿第2轴下标连乘（变化第2轴下标，其它轴不变，放在一起连乘）"
   ]
  },
  {
   "cell_type": "code",
   "execution_count": 102,
   "metadata": {},
   "outputs": [
    {
     "name": "stdout",
     "output_type": "stream",
     "text": [
      "3.25\n"
     ]
    }
   ],
   "source": [
    "# 加权平均\n",
    "d = np.array([1,2,3,4,5])\n",
    "w = np.array([0.1, 0.2, 0.5, 0.1, 0.3])\n",
    "print(np.average(d, weights=w))"
   ]
  },
  {
   "cell_type": "code",
   "execution_count": 103,
   "metadata": {},
   "outputs": [
    {
     "name": "stdout",
     "output_type": "stream",
     "text": [
      "[[25. 26. 27. 28. 29. 30. 31. 32. 33. 34.]\n",
      " [35. 36. 37. 38. 39. 40. 41. 42. 43. 44.]\n",
      " [45. 46. 47. 48. 49. 50. 51. 52. 53. 54.]\n",
      " [55. 56. 57. 58. 59. 60. 61. 62. 63. 64.]\n",
      " [65. 66. 67. 68. 69. 70. 71. 72. 73. 74.]]\n",
      "[[20. 21. 22. 23. 24. 25. 26. 27. 28. 29.]\n",
      " [70. 71. 72. 73. 74. 75. 76. 77. 78. 79.]]\n",
      "[[ 4.5 14.5 24.5 34.5 44.5]\n",
      " [54.5 64.5 74.5 84.5 94.5]]\n"
     ]
    }
   ],
   "source": [
    "# 算术平均\n",
    "print(np.mean(c,axis=0)) # 沿第0轴下标平均（变化第0轴下标，其它轴不变，放在一起平均）\n",
    "print(np.mean(c,axis=1)) # 沿第1轴下标平均（变化第1轴下标，其它轴不变，放在一起平均）\n",
    "print(np.mean(c,axis=2)) # 沿第2轴下标平均（变化第2轴下标，其它轴不变，放在一起平均）"
   ]
  },
  {
   "cell_type": "code",
   "execution_count": 104,
   "metadata": {},
   "outputs": [
    {
     "name": "stdout",
     "output_type": "stream",
     "text": [
      "833.25\n"
     ]
    }
   ],
   "source": [
    "# 方差\n",
    "print(np.var(a))"
   ]
  },
  {
   "cell_type": "code",
   "execution_count": 105,
   "metadata": {},
   "outputs": [
    {
     "name": "stdout",
     "output_type": "stream",
     "text": [
      "28.86607004772212\n"
     ]
    }
   ],
   "source": [
    "# 标准差\n",
    "print(np.std(a))"
   ]
  },
  {
   "cell_type": "markdown",
   "metadata": {},
   "source": [
    "### 大小与排序"
   ]
  },
  {
   "cell_type": "code",
   "execution_count": 106,
   "metadata": {},
   "outputs": [
    {
     "name": "stdout",
     "output_type": "stream",
     "text": [
      "0\n",
      "[ 0  1  2  3  4  5  6  7  8  9 10 11 12 13 14 15 16 17 18 19]\n",
      "[ 0 20 40 60 80]\n",
      "[[ 0  1  2  3  4  5  6  7  8  9]\n",
      " [10 11 12 13 14 15 16 17 18 19]\n",
      " [20 21 22 23 24 25 26 27 28 29]\n",
      " [30 31 32 33 34 35 36 37 38 39]\n",
      " [40 41 42 43 44 45 46 47 48 49]]\n",
      "[[ 0  1  2  3  4  5  6  7  8  9]\n",
      " [50 51 52 53 54 55 56 57 58 59]]\n",
      "[[ 0 10 20 30 40]\n",
      " [50 60 70 80 90]]\n"
     ]
    }
   ],
   "source": [
    "# 最小值\n",
    "print(np.min(a,axis=0)) # 沿第0轴下标取最小值（变化第0轴下标，其它轴不变，放在一起取最小值）\n",
    "print(np.min(b,axis=0)) # 沿第1轴下标取最小值（变化第1轴下标，其它轴不变，放在一起取最小值）\n",
    "print(np.min(b,axis=1)) # 沿第1轴下标取最小值（变化第2轴下标，其它轴不变，放在一起取最小值）\n",
    "print(np.min(c,axis=0)) # 沿第0轴下标取最小值（变化第0轴下标，其它轴不变，放在一起取最小值）\n",
    "print(np.min(c,axis=1)) # 沿第1轴下标取最小值（变化第1轴下标，其它轴不变，放在一起取最小值）\n",
    "print(np.min(c,axis=2)) # 沿第2轴下标取最小值（变化第2轴下标，其它轴不变，放在一起取最小值）"
   ]
  },
  {
   "cell_type": "code",
   "execution_count": 107,
   "metadata": {},
   "outputs": [
    {
     "name": "stdout",
     "output_type": "stream",
     "text": [
      "99\n"
     ]
    }
   ],
   "source": [
    "# 最大值\n",
    "print(np.max(a))"
   ]
  },
  {
   "cell_type": "code",
   "execution_count": 111,
   "metadata": {},
   "outputs": [
    {
     "name": "stdout",
     "output_type": "stream",
     "text": [
      "4\n"
     ]
    }
   ],
   "source": [
    "# 二元最小值\n",
    "print(np.minimum(25,4))"
   ]
  },
  {
   "cell_type": "code",
   "execution_count": 127,
   "metadata": {},
   "outputs": [
    {
     "name": "stdout",
     "output_type": "stream",
     "text": [
      "25\n"
     ]
    }
   ],
   "source": [
    "# 二元最大值\n",
    "print(np.maximum(25,4))"
   ]
  },
  {
   "cell_type": "code",
   "execution_count": 116,
   "metadata": {},
   "outputs": [
    {
     "name": "stdout",
     "output_type": "stream",
     "text": [
      "99\n"
     ]
    }
   ],
   "source": [
    "# 最大值的下标\n",
    "print(np.argmax(a))"
   ]
  },
  {
   "cell_type": "code",
   "execution_count": 117,
   "metadata": {},
   "outputs": [
    {
     "name": "stdout",
     "output_type": "stream",
     "text": [
      "0\n"
     ]
    }
   ],
   "source": [
    "# 最小值的下标\n",
    "print(np.argmin(a))"
   ]
  },
  {
   "cell_type": "code",
   "execution_count": 118,
   "metadata": {},
   "outputs": [
    {
     "name": "stdout",
     "output_type": "stream",
     "text": [
      "99\n"
     ]
    }
   ],
   "source": [
    "# 最大值与最小值之差\n",
    "print(np.ptp(a))"
   ]
  },
  {
   "cell_type": "code",
   "execution_count": 120,
   "metadata": {},
   "outputs": [
    {
     "name": "stdout",
     "output_type": "stream",
     "text": [
      "(0, 3, 8)\n",
      "38\n",
      "38\n"
     ]
    }
   ],
   "source": [
    "# 转换一维数组和多维数组的下标\n",
    "# numpy数组（array）中，所有的元素其实都是一维化后连续存储在内存里，所以numpy速度很快\n",
    "# numpy的多维数组实际上是一种读取数组的方式，所有numpy数组实际上都被视作一维数组来操作，只不过这个过程被numpy隐藏了\n",
    "# numpy提供的unravel_index函数可以将高维数组的坐标转化为一维数组的坐标，给用户提供numpy内部的数组访问方式\n",
    "# 例如，在一个维度是(2,5,10)的三维数组中，第38号元素是哪一个呢？\n",
    "print(np.unravel_index(38,(2,5,10)))\n",
    "print(a[38])\n",
    "print(c[0,3,8])"
   ]
  },
  {
   "cell_type": "code",
   "execution_count": 121,
   "metadata": {},
   "outputs": [
    {
     "name": "stdout",
     "output_type": "stream",
     "text": [
      "(0, 3, 8)\n",
      "(0, 4, 3)\n"
     ]
    }
   ],
   "source": [
    "# c语言和fortran语言中，高维数组的排序方式不一样\n",
    "# c语言中，第0轴在最外侧；fortran语言中，第0轴在最内侧\n",
    "# python模仿c风格的排序，但你也可以指定为fortran风格，看看算出来的坐标是什么\n",
    "print(np.unravel_index(38,(2,5,10),order='C'))\n",
    "print(np.unravel_index(38,(2,5,10),order='F'))"
   ]
  },
  {
   "cell_type": "code",
   "execution_count": 122,
   "metadata": {},
   "outputs": [
    {
     "name": "stdout",
     "output_type": "stream",
     "text": [
      "[1 2 2 3 4 5 7 8]\n"
     ]
    }
   ],
   "source": [
    "# 排序\n",
    "a = np.array([3,2,5,1,4,7,8,2])\n",
    "print(np.sort(a))"
   ]
  },
  {
   "cell_type": "code",
   "execution_count": 123,
   "metadata": {},
   "outputs": [
    {
     "name": "stdout",
     "output_type": "stream",
     "text": [
      "[3 1 7 0 4 2 5 6]\n",
      "[1 2 2 3 4 5 7 8]\n"
     ]
    }
   ],
   "source": [
    "# 返回排序下标\n",
    "a = np.array([3,2,5,1,4,7,8,2])\n",
    "idx = np.argsort(a)\n",
    "print(idx)\n",
    "print(a[idx])"
   ]
  },
  {
   "cell_type": "code",
   "execution_count": 124,
   "metadata": {},
   "outputs": [
    {
     "name": "stdout",
     "output_type": "stream",
     "text": [
      "[2 0 4 6 5 3 1]\n",
      "[1 1 3 4 4 4 5]\n",
      "[0 9 0 1 2 4 4]\n"
     ]
    }
   ],
   "source": [
    "# 多列扩展排序\n",
    "# 先按数组a排序，如果a的元素一样，那就按b排序\n",
    "a = np.array([1,5,1,4,3,4,4]) # First column\n",
    "b = np.array([9,4,0,4,0,2,1]) # Second column\n",
    "ind = np.lexsort((b,a)) # Sort by a, then by b\n",
    "print(ind)\n",
    "print(a[ind])\n",
    "print(b[ind])"
   ]
  },
  {
   "cell_type": "code",
   "execution_count": 131,
   "metadata": {},
   "outputs": [
    {
     "name": "stdout",
     "output_type": "stream",
     "text": [
      "[ 1  1  2  7  9  3  5  8 10]\n"
     ]
    }
   ],
   "source": [
    "# 快速排序前k位\n",
    "a = np.array([2,5,1,7,9,3,1,8,10])\n",
    "print(np.partition(a,2)) # 只挑出前2名，放在开头，后面维持不变"
   ]
  },
  {
   "cell_type": "code",
   "execution_count": 132,
   "metadata": {},
   "outputs": [
    {
     "name": "stdout",
     "output_type": "stream",
     "text": [
      "[2 6 0 3 4 5 1 7 8]\n",
      "[ 1  1  2  7  9  3  5  8 10]\n"
     ]
    }
   ],
   "source": [
    "# 返回快速排序前k位的下标\n",
    "ind = np.argpartition(a,2)\n",
    "print(ind)\n",
    "print(a[ind])"
   ]
  },
  {
   "cell_type": "code",
   "execution_count": 133,
   "metadata": {},
   "outputs": [
    {
     "name": "stdout",
     "output_type": "stream",
     "text": [
      "5.0\n"
     ]
    }
   ],
   "source": [
    "# 中位数\n",
    "print(np.median(a))"
   ]
  },
  {
   "cell_type": "code",
   "execution_count": 136,
   "metadata": {},
   "outputs": [
    {
     "name": "stdout",
     "output_type": "stream",
     "text": [
      "-1.639030766837563\n",
      "-0.005383402201001503\n",
      "1.628590099726577\n"
     ]
    }
   ],
   "source": [
    "# 百分位数\n",
    "a = np.random.randn(10000)\n",
    "print(np.percentile(a,5))\n",
    "print(np.percentile(a,50))\n",
    "print(np.percentile(a,95))"
   ]
  },
  {
   "cell_type": "code",
   "execution_count": 137,
   "metadata": {},
   "outputs": [
    {
     "name": "stdout",
     "output_type": "stream",
     "text": [
      "2\n",
      "2\n"
     ]
    }
   ],
   "source": [
    "# 二分查找\n",
    "# 从数组中找某一个元素在哪两个元素之间，返回下标\n",
    "print(np.searchsorted([1,2,3,4,5,6], 2.5))\n",
    "print(np.searchsorted([1,2,3,4,5,6], 2.5, side='right'))"
   ]
  },
  {
   "cell_type": "markdown",
   "metadata": {},
   "source": [
    "### 多维数组操作"
   ]
  },
  {
   "cell_type": "code",
   "execution_count": 3,
   "metadata": {},
   "outputs": [
    {
     "name": "stdout",
     "output_type": "stream",
     "text": [
      "[[ 1  2  3]\n",
      " [ 4  5  6]\n",
      " [ 7  8  9]\n",
      " [10 11 12]]\n"
     ]
    }
   ],
   "source": [
    "# 连接多个数组\n",
    "a = np.array([[1,2,3],[4,5,6]])\n",
    "b = np.array([[7,8,9],[10,11,12]])\n",
    "c = np.concatenate((a,b))\n",
    "print(c)"
   ]
  },
  {
   "cell_type": "code",
   "execution_count": 8,
   "metadata": {},
   "outputs": [
    {
     "data": {
      "text/plain": [
       "[array([0., 1., 2.]), array([3., 4., 5.]), array([6., 7., 8.])]"
      ]
     },
     "execution_count": 8,
     "metadata": {},
     "output_type": "execute_result"
    }
   ],
   "source": [
    "# 数组分段\n",
    "x = np.arange(9.0)\n",
    "np.split(x, 3)"
   ]
  },
  {
   "cell_type": "code",
   "execution_count": 9,
   "metadata": {},
   "outputs": [
    {
     "data": {
      "text/plain": [
       "[array([0., 1., 2.]),\n",
       " array([3., 4.]),\n",
       " array([5.]),\n",
       " array([6., 7., 8.]),\n",
       " array([], dtype=float64)]"
      ]
     },
     "execution_count": 9,
     "metadata": {},
     "output_type": "execute_result"
    }
   ],
   "source": [
    "np.split(x, [3, 5, 6, 10])"
   ]
  },
  {
   "cell_type": "code",
   "execution_count": 10,
   "metadata": {},
   "outputs": [
    {
     "name": "stdout",
     "output_type": "stream",
     "text": [
      "[[ 1  2  3  7  8  9]\n",
      " [ 4  5  6 10 11 12]]\n"
     ]
    }
   ],
   "source": [
    "# 沿第1轴连接数组（横向拼接）\n",
    "a = np.array([[1,2,3],[4,5,6]])\n",
    "b = np.array([[7,8,9],[10,11,12]])\n",
    "c = np.hstack((a,b))\n",
    "print(c)"
   ]
  },
  {
   "cell_type": "code",
   "execution_count": 11,
   "metadata": {},
   "outputs": [
    {
     "name": "stdout",
     "output_type": "stream",
     "text": [
      "[[ 1  2  3]\n",
      " [ 4  5  6]\n",
      " [ 7  8  9]\n",
      " [10 11 12]]\n"
     ]
    }
   ],
   "source": [
    "# 沿第0轴连接数组（纵向拼接）\n",
    "c = np.vstack((a,b))\n",
    "print(c)"
   ]
  },
  {
   "cell_type": "code",
   "execution_count": 12,
   "metadata": {},
   "outputs": [
    {
     "name": "stdout",
     "output_type": "stream",
     "text": [
      "[[1 4 7]\n",
      " [2 5 8]\n",
      " [3 6 9]]\n"
     ]
    }
   ],
   "source": [
    "# 按列拼接多个一维数组\n",
    "a = np.array([1,2,3])\n",
    "b = np.array([4,5,6])\n",
    "c = np.array([7,8,9])\n",
    "d = np.column_stack((a,b,c))\n",
    "print(d)"
   ]
  },
  {
   "cell_type": "code",
   "execution_count": 13,
   "metadata": {},
   "outputs": [
    {
     "name": "stdout",
     "output_type": "stream",
     "text": [
      "[[1 4]\n",
      " [2 5]\n",
      " [3 6]]\n"
     ]
    }
   ],
   "source": [
    "#交换两个轴的顺序\n",
    "a = np.array([[1,2,3],[4,5,6]])\n",
    "print(np.swapaxes(a,0,1))"
   ]
  },
  {
   "cell_type": "code",
   "execution_count": 14,
   "metadata": {},
   "outputs": [
    {
     "name": "stdout",
     "output_type": "stream",
     "text": [
      "[[1 4]\n",
      " [2 5]\n",
      " [3 6]]\n",
      "[[1 4]\n",
      " [2 5]\n",
      " [3 6]]\n"
     ]
    }
   ],
   "source": [
    "#转置\n",
    "print(a.T)\n",
    "print(a.transpose())"
   ]
  },
  {
   "cell_type": "markdown",
   "metadata": {},
   "source": [
    "### 基本线性代数"
   ]
  },
  {
   "cell_type": "code",
   "execution_count": 15,
   "metadata": {},
   "outputs": [
    {
     "name": "stdout",
     "output_type": "stream",
     "text": [
      "[[ 50  68]\n",
      " [122 167]]\n"
     ]
    }
   ],
   "source": [
    "# 矩阵相乘\n",
    "a = np.array([[1,2,3],[4,5,6]])\n",
    "b = np.array([[7,8,9],[10,11,12]])\n",
    "print(np.dot(a,b.T))"
   ]
  },
  {
   "cell_type": "code",
   "execution_count": 16,
   "metadata": {},
   "outputs": [
    {
     "name": "stdout",
     "output_type": "stream",
     "text": [
      "[[ 7 10  8 11  9 12]\n",
      " [14 20 16 22 18 24]\n",
      " [21 30 24 33 27 36]\n",
      " [28 40 32 44 36 48]\n",
      " [35 50 40 55 45 60]\n",
      " [42 60 48 66 54 72]]\n"
     ]
    }
   ],
   "source": [
    "# 外积\n",
    "print(np.outer(a,b.T))"
   ]
  },
  {
   "cell_type": "code",
   "execution_count": 17,
   "metadata": {},
   "outputs": [
    {
     "name": "stdout",
     "output_type": "stream",
     "text": [
      "[[ 50  68]\n",
      " [122 167]]\n"
     ]
    }
   ],
   "source": [
    "# 内积\n",
    "print(np.inner(a,b))"
   ]
  },
  {
   "cell_type": "code",
   "execution_count": 18,
   "metadata": {},
   "outputs": [
    {
     "name": "stdout",
     "output_type": "stream",
     "text": [
      "217\n"
     ]
    }
   ],
   "source": [
    "# 张量乘积\n",
    "print(np.tensordot(a,b))"
   ]
  },
  {
   "cell_type": "code",
   "execution_count": 19,
   "metadata": {},
   "outputs": [
    {
     "name": "stdout",
     "output_type": "stream",
     "text": [
      "[2. 3.]\n"
     ]
    }
   ],
   "source": [
    "# 解方程Ax=b\n",
    "A = np.array([[3,1],[1,2]])\n",
    "b = np.array([9,8])\n",
    "x = np.linalg.solve(A,b)\n",
    "print(x)"
   ]
  },
  {
   "cell_type": "code",
   "execution_count": 3,
   "metadata": {},
   "outputs": [
    {
     "name": "stdout",
     "output_type": "stream",
     "text": [
      "0.9999999999999999 -0.9499999999999997\n"
     ]
    },
    {
     "data": {
      "image/png": "[encoded data removed]",
      "text/plain": [
       "<Figure size 432x288 with 1 Axes>"
      ]
     },
     "metadata": {
      "needs_background": "light"
     },
     "output_type": "display_data"
    }
   ],
   "source": [
    "# 求最小二乘解\n",
    "x = np.array([0, 1, 2, 3])\n",
    "y = np.array([-1, 0.2, 0.9, 2.1])\n",
    "A = np.vstack([x, np.ones(len(x))]).T\n",
    "m, c = np.linalg.lstsq(A, y, rcond=None)[0]\n",
    "print(m, c)\n",
    "import matplotlib.pyplot as plt\n",
    "plt.plot(x, y, 'o', label='Original data', markersize=10)\n",
    "plt.plot(x, m*x + c, 'r', label='Fitted line')\n",
    "plt.legend()\n",
    "plt.show()"
   ]
  },
  {
   "cell_type": "code",
   "execution_count": 207,
   "metadata": {},
   "outputs": [
    {
     "name": "stdout",
     "output_type": "stream",
     "text": [
      "Help on function lstsq in module numpy.linalg.linalg:\n",
      "\n",
      "lstsq(a, b, rcond='warn')\n",
      "    Return the least-squares solution to a linear matrix equation.\n",
      "    \n",
      "    Solves the equation `a x = b` by computing a vector `x` that\n",
      "    minimizes the Euclidean 2-norm `|| b - a x ||^2`.  The equation may\n",
      "    be under-, well-, or over- determined (i.e., the number of\n",
      "    linearly independent rows of `a` can be less than, equal to, or\n",
      "    greater than its number of linearly independent columns).  If `a`\n",
      "    is square and of full rank, then `x` (but for round-off error) is\n",
      "    the \"exact\" solution of the equation.\n",
      "    \n",
      "    Parameters\n",
      "    ----------\n",
      "    a : (M, N) array_like\n",
      "        \"Coefficient\" matrix.\n",
      "    b : {(M,), (M, K)} array_like\n",
      "        Ordinate or \"dependent variable\" values. If `b` is two-dimensional,\n",
      "        the least-squares solution is calculated for each of the `K` columns\n",
      "        of `b`.\n",
      "    rcond : float, optional\n",
      "        Cut-off ratio for small singular values of `a`.\n",
      "        For the purposes of rank determination, singular values are treated\n",
      "        as zero if they are smaller than `rcond` times the largest singular\n",
      "        value of `a`.\n",
      "    \n",
      "        .. versionchanged:: 1.14.0\n",
      "           If not set, a FutureWarning is given. The previous default\n",
      "           of ``-1`` will use the machine precision as `rcond` parameter,\n",
      "           the new default will use the machine precision times `max(M, N)`.\n",
      "           To silence the warning and use the new default, use ``rcond=None``,\n",
      "           to keep using the old behavior, use ``rcond=-1``.\n",
      "    \n",
      "    Returns\n",
      "    -------\n",
      "    x : {(N,), (N, K)} ndarray\n",
      "        Least-squares solution. If `b` is two-dimensional,\n",
      "        the solutions are in the `K` columns of `x`.\n",
      "    residuals : {(1,), (K,), (0,)} ndarray\n",
      "        Sums of residuals; squared Euclidean 2-norm for each column in\n",
      "        ``b - a*x``.\n",
      "        If the rank of `a` is < N or M <= N, this is an empty array.\n",
      "        If `b` is 1-dimensional, this is a (1,) shape array.\n",
      "        Otherwise the shape is (K,).\n",
      "    rank : int\n",
      "        Rank of matrix `a`.\n",
      "    s : (min(M, N),) ndarray\n",
      "        Singular values of `a`.\n",
      "    \n",
      "    Raises\n",
      "    ------\n",
      "    LinAlgError\n",
      "        If computation does not converge.\n",
      "    \n",
      "    Notes\n",
      "    -----\n",
      "    If `b` is a matrix, then all array results are returned as matrices.\n",
      "    \n",
      "    Examples\n",
      "    --------\n",
      "    Fit a line, ``y = mx + c``, through some noisy data-points:\n",
      "    \n",
      "    >>> x = np.array([0, 1, 2, 3])\n",
      "    >>> y = np.array([-1, 0.2, 0.9, 2.1])\n",
      "    \n",
      "    By examining the coefficients, we see that the line should have a\n",
      "    gradient of roughly 1 and cut the y-axis at, more or less, -1.\n",
      "    \n",
      "    We can rewrite the line equation as ``y = Ap``, where ``A = [[x 1]]``\n",
      "    and ``p = [[m], [c]]``.  Now use `lstsq` to solve for `p`:\n",
      "    \n",
      "    >>> A = np.vstack([x, np.ones(len(x))]).T\n",
      "    >>> A\n",
      "    array([[ 0.,  1.],\n",
      "           [ 1.,  1.],\n",
      "           [ 2.,  1.],\n",
      "           [ 3.,  1.]])\n",
      "    \n",
      "    >>> m, c = np.linalg.lstsq(A, y, rcond=None)[0]\n",
      "    >>> print(m, c)\n",
      "    1.0 -0.95\n",
      "    \n",
      "    Plot the data along with the fitted line:\n",
      "    \n",
      "    >>> import matplotlib.pyplot as plt\n",
      "    >>> plt.plot(x, y, 'o', label='Original data', markersize=10)\n",
      "    >>> plt.plot(x, m*x + c, 'r', label='Fitted line')\n",
      "    >>> plt.legend()\n",
      "    >>> plt.show()\n",
      "\n"
     ]
    }
   ],
   "source": [
    "help(np.linalg.lstsq)"
   ]
  },
  {
   "cell_type": "code",
   "execution_count": 4,
   "metadata": {},
   "outputs": [
    {
     "name": "stdout",
     "output_type": "stream",
     "text": [
      "-2.0000000000000004\n"
     ]
    }
   ],
   "source": [
    "# 求行列式\n",
    "A = np.array([[1,2],[3,4]])\n",
    "print(np.linalg.det(A))"
   ]
  },
  {
   "cell_type": "code",
   "execution_count": 5,
   "metadata": {},
   "outputs": [
    {
     "name": "stdout",
     "output_type": "stream",
     "text": [
      "(array([-0.37228132,  5.37228132]), array([[-0.82456484, -0.41597356],\n",
      "       [ 0.56576746, -0.90937671]]))\n"
     ]
    }
   ],
   "source": [
    "# 求特征值和特征向量\n",
    "print(np.linalg.eig(A))"
   ]
  },
  {
   "cell_type": "code",
   "execution_count": 6,
   "metadata": {},
   "outputs": [
    {
     "name": "stdout",
     "output_type": "stream",
     "text": [
      "14.933034373659268\n"
     ]
    }
   ],
   "source": [
    "# 求条件数\n",
    "print(np.linalg.cond(A))"
   ]
  },
  {
   "cell_type": "code",
   "execution_count": 7,
   "metadata": {},
   "outputs": [
    {
     "name": "stdout",
     "output_type": "stream",
     "text": [
      "5.477225575051661\n"
     ]
    }
   ],
   "source": [
    "# 求范数\n",
    "print(np.linalg.norm(A))"
   ]
  },
  {
   "cell_type": "code",
   "execution_count": 8,
   "metadata": {},
   "outputs": [
    {
     "name": "stdout",
     "output_type": "stream",
     "text": [
      "5\n"
     ]
    }
   ],
   "source": [
    "# 求迹\n",
    "print(np.trace(A))"
   ]
  },
  {
   "cell_type": "code",
   "execution_count": 9,
   "metadata": {},
   "outputs": [
    {
     "name": "stdout",
     "output_type": "stream",
     "text": [
      "[[2.23606798 0.        ]\n",
      " [4.91934955 0.89442719]]\n"
     ]
    }
   ],
   "source": [
    "# cholesky分解\n",
    "print(np.linalg.cholesky(np.dot(A,A.T)))"
   ]
  },
  {
   "cell_type": "code",
   "execution_count": 10,
   "metadata": {},
   "outputs": [
    {
     "name": "stdout",
     "output_type": "stream",
     "text": [
      "(array([[-0.31622777, -0.9486833 ],\n",
      "       [-0.9486833 ,  0.31622777]]), array([[-3.16227766, -4.42718872],\n",
      "       [ 0.        , -0.63245553]]))\n"
     ]
    }
   ],
   "source": [
    "# QR分解\n",
    "print(np.linalg.qr(A))"
   ]
  },
  {
   "cell_type": "code",
   "execution_count": 11,
   "metadata": {},
   "outputs": [
    {
     "name": "stdout",
     "output_type": "stream",
     "text": [
      "(array([[-0.40455358, -0.9145143 ],\n",
      "       [-0.9145143 ,  0.40455358]]), array([29.86606875,  0.13393125]), array([[-0.40455358, -0.9145143 ],\n",
      "       [-0.9145143 ,  0.40455358]]))\n"
     ]
    }
   ],
   "source": [
    "# SVD分解\n",
    "print(np.linalg.svd(np.dot(A,A.T)))"
   ]
  },
  {
   "cell_type": "code",
   "execution_count": 12,
   "metadata": {},
   "outputs": [
    {
     "name": "stdout",
     "output_type": "stream",
     "text": [
      "[[-2.   1. ]\n",
      " [ 1.5 -0.5]]\n"
     ]
    }
   ],
   "source": [
    "# 求逆\n",
    "print(np.linalg.inv(A))"
   ]
  },
  {
   "cell_type": "code",
   "execution_count": 222,
   "metadata": {},
   "outputs": [
    {
     "name": "stdout",
     "output_type": "stream",
     "text": [
      "[[-2.   1. ]\n",
      " [ 1.5 -0.5]]\n"
     ]
    }
   ],
   "source": [
    "# 求伪逆\n",
    "print(np.linalg.pinv(A))"
   ]
  }
 ],
 "metadata": {
  "kernelspec": {
   "display_name": "Python 3 (ipykernel)",
   "language": "python",
   "name": "python3"
  },
  "language_info": {
   "codemirror_mode": {
    "name": "ipython",
    "version": 3
   },
   "file_extension": ".py",
   "mimetype": "text/x-python",
   "name": "python",
   "nbconvert_exporter": "python",
   "pygments_lexer": "ipython3",
   "version": "3.7.11"
  }
 },
 "nbformat": 4,
 "nbformat_minor": 4
}
