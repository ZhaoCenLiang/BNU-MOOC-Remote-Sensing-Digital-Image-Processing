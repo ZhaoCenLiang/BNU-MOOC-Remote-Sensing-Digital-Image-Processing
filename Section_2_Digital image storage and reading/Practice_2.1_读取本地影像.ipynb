{
 "cells": [
  {
   "cell_type": "markdown",
   "id": "093f715e-8e65-45cc-a020-ae4f9cf6b85f",
   "metadata": {},
   "source": [
    "## 实验操作2.1  读取本地影像\n",
    "* 实验目的：读取本地dat影像，查看元信息，并学习hdr文件的生成方法\n",
    "* 测试数据：\n",
    "    * \"Landsat8_OLI.dat\"，该数据为某地的Landsat 8 OLI多光谱图像，灰度值为放大 10,000 倍的地表反射率    \n",
    "* Code: 赵涔良"
   ]
  },
  {
   "cell_type": "code",
   "execution_count": 1,
   "id": "9e5766f9-b9f1-4174-b8b1-484666a4ca8d",
   "metadata": {},
   "outputs": [],
   "source": [
    "from osgeo import gdal\n"
   ]
  },
  {
   "cell_type": "code",
   "execution_count": 2,
   "id": "915fe08c-9268-430f-bfd0-e674187139ae",
   "metadata": {},
   "outputs": [
    {
     "name": "stdout",
     "output_type": "stream",
     "text": [
      "       VRT: Virtual Raster\n",
      "   DERIVED: Derived datasets using VRT pixel functions\n",
      "     GTiff: GeoTIFF\n",
      "       COG: Cloud optimized GeoTIFF generator\n",
      "      NITF: National Imagery Transmission Format\n",
      "    RPFTOC: Raster Product Format TOC format\n",
      "   ECRGTOC: ECRG TOC format\n",
      "       HFA: Erdas Imagine Images (.img)\n",
      "  SAR_CEOS: CEOS SAR Image\n",
      "      CEOS: CEOS Image\n",
      "JAXAPALSAR: JAXA PALSAR Product Reader (Level 1.1/1.5)\n",
      "       GFF: Ground-based SAR Applications Testbed File Format (.gff)\n",
      "      ELAS: ELAS\n",
      "     ESRIC: Esri Compact Cache\n",
      "       AIG: Arc/Info Binary Grid\n",
      "   AAIGrid: Arc/Info ASCII Grid\n",
      "GRASSASCIIGrid: GRASS ASCII Grid\n",
      "       ISG: International Service for the Geoid\n",
      "      SDTS: SDTS Raster\n",
      "      DTED: DTED Elevation Raster\n",
      "       PNG: Portable Network Graphics\n",
      "      JPEG: JPEG JFIF\n",
      "       MEM: In Memory Raster\n",
      "      JDEM: Japanese DEM (.mem)\n",
      "       GIF: Graphics Interchange Format (.gif)\n",
      "    BIGGIF: Graphics Interchange Format (.gif)\n",
      "      ESAT: Envisat Image Format\n",
      "      FITS: Flexible Image Transport System\n",
      "       BSB: Maptech BSB Nautical Charts\n",
      "       XPM: X11 PixMap Format\n",
      "       BMP: MS Windows Device Independent Bitmap\n",
      "     DIMAP: SPOT DIMAP\n",
      "    AirSAR: AirSAR Polarimetric Image\n",
      "       RS2: RadarSat 2 XML Product\n",
      "      SAFE: Sentinel-1 SAR SAFE Product\n",
      "    PCIDSK: PCIDSK Database File\n",
      "  PCRaster: PCRaster Raster File\n",
      "     ILWIS: ILWIS Raster Map\n",
      "       SGI: SGI Image File Format 1.0\n",
      "   SRTMHGT: SRTMHGT File Format\n",
      "  Leveller: Leveller heightfield\n",
      "  Terragen: Terragen heightfield\n",
      "       GMT: GMT NetCDF Grid Format\n",
      "    netCDF: Network Common Data Format\n",
      "      HDF4: Hierarchical Data Format Release 4\n",
      " HDF4Image: HDF4 Dataset\n",
      "     ISIS3: USGS Astrogeology ISIS cube (Version 3)\n",
      "     ISIS2: USGS Astrogeology ISIS cube (Version 2)\n",
      "       PDS: NASA Planetary Data System\n",
      "      PDS4: NASA Planetary Data System 4\n",
      "     VICAR: MIPL VICAR file\n",
      "       TIL: EarthWatch .TIL\n",
      "       ERS: ERMapper .ers Labelled\n",
      "JP2OpenJPEG: JPEG-2000 driver based on OpenJPEG library\n",
      "       L1B: NOAA Polar Orbiter Level 1b Data Set\n",
      "       FIT: FIT Image\n",
      "      GRIB: GRIdded Binary (.grb, .grb2)\n",
      "       RMF: Raster Matrix Format\n",
      "       WCS: OGC Web Coverage Service\n",
      "       WMS: OGC Web Map Service\n",
      "      MSGN: EUMETSAT Archive native (.nat)\n",
      "       RST: Idrisi Raster A.1\n",
      "      INGR: Intergraph Raster\n",
      "      GSAG: Golden Software ASCII Grid (.grd)\n",
      "      GSBG: Golden Software Binary Grid (.grd)\n",
      "     GS7BG: Golden Software 7 Binary Grid (.grd)\n",
      "     COSAR: COSAR Annotated Binary Matrix (TerraSAR-X)\n",
      "       TSX: TerraSAR-X Product\n",
      "     COASP: DRDC COASP SAR Processor Raster\n",
      "         R: R Object Data Store\n",
      "       MAP: OziExplorer .MAP\n",
      "KMLSUPEROVERLAY: Kml Super Overlay\n",
      "      WEBP: WEBP\n",
      "       PDF: Geospatial PDF\n",
      "Rasterlite: Rasterlite\n",
      "   MBTiles: MBTiles\n",
      "  PLMOSAIC: Planet Labs Mosaics API\n",
      "      CALS: CALS (Type 1)\n",
      "      WMTS: OGC Web Map Tile Service\n",
      " SENTINEL2: Sentinel 2\n",
      "       MRF: Meta Raster Format\n",
      "    TileDB: TileDB\n",
      "       PNM: Portable Pixmap Format (netpbm)\n",
      "      DOQ1: USGS DOQ (Old Style)\n",
      "      DOQ2: USGS DOQ (New Style)\n",
      "      PAux: PCI .aux Labelled\n",
      "       MFF: Vexcel MFF Raster\n",
      "      MFF2: Vexcel MFF2 (HKV) Raster\n",
      "   FujiBAS: Fuji BAS Scanner Image\n",
      "       GSC: GSC Geogrid\n",
      "      FAST: EOSAT FAST Format\n",
      "        BT: VTP .bt (Binary Terrain) 1.3 Format\n",
      "       LAN: Erdas .LAN/.GIS\n",
      "       CPG: Convair PolGASP\n",
      "       IDA: Image Data and Analysis\n",
      "       NDF: NLAPS Data Format\n",
      "       EIR: Erdas Imagine Raw\n",
      "     DIPEx: DIPEx\n",
      "       LCP: FARSITE v.4 Landscape File (.lcp)\n",
      "       GTX: NOAA Vertical Datum .GTX\n",
      "    LOSLAS: NADCON .los/.las Datum Grid Shift\n",
      "      NTv2: NTv2 Datum Grid Shift\n",
      "   CTable2: CTable2 Datum Grid Shift\n",
      "      ACE2: ACE2\n",
      "    SNODAS: Snow Data Assimilation System\n",
      "       KRO: KOLOR Raw\n",
      "   ROI_PAC: ROI_PAC raster\n",
      "   RRASTER: R Raster\n",
      "       BYN: Natural Resources Canada's Geoid\n",
      "       ARG: Azavea Raster Grid format\n",
      "       RIK: Swedish Grid RIK (.rik)\n",
      "   USGSDEM: USGS Optional ASCII DEM (and CDED)\n",
      "       GXF: GeoSoft Grid Exchange Format\n",
      "       KEA: KEA Image Format (.kea)\n",
      "       BAG: Bathymetry Attributed Grid\n",
      "      HDF5: Hierarchical Data Format Release 5\n",
      " HDF5Image: HDF5 Dataset\n",
      "   NWT_GRD: Northwood Numeric Grid Format .grd/.tab\n",
      "   NWT_GRC: Northwood Classified Grid Format .grc/.tab\n",
      "      ADRG: ARC Digitized Raster Graphics\n",
      "       SRP: Standard Raster Product (ASRP/USRP)\n",
      "       BLX: Magellan topo (.blx)\n",
      "PostGISRaster: PostGIS Raster driver\n",
      "      SAGA: SAGA GIS Binary Grid (.sdat, .sg-grd-z)\n",
      "       XYZ: ASCII Gridded XYZ\n",
      "       HF2: HF2/HFZ heightfield raster\n",
      "       OZI: OziExplorer Image File\n",
      "       CTG: USGS LULC Composite Theme Grid\n",
      "      ZMap: ZMap Plus Grid\n",
      "  NGSGEOID: NOAA NGS Geoid Height Grids\n",
      "      IRIS: IRIS data (.PPI, .CAPPi etc)\n",
      "       PRF: Racurs PHOTOMOD PRF\n",
      "       RDA: DigitalGlobe Raster Data Access driver\n",
      "     EEDAI: Earth Engine Data API Image\n",
      "      EEDA: Earth Engine Data API\n",
      "      DAAS: Airbus DS Intelligence Data As A Service driver\n",
      "    SIGDEM: Scaled Integer Gridded DEM .sigdem\n",
      "       TGA: TGA/TARGA Image File Format\n",
      "    OGCAPI: OGCAPI\n",
      "    STACTA: Spatio-Temporal Asset Catalog Tiled Assets\n",
      "   GNMFile: Geographic Network generic file based model\n",
      "GNMDatabase: Geographic Network generic DB based model\n",
      "   DB2ODBC: IBM DB2 Spatial Database\n",
      "ESRI Shapefile: ESRI Shapefile\n",
      "MapInfo File: MapInfo File\n",
      "   UK .NTF: UK .NTF\n",
      "     LVBAG: Kadaster LV BAG Extract 2.0\n",
      "  OGR_SDTS: SDTS\n",
      "       S57: IHO S-57 (ENC)\n",
      "       DGN: Microstation DGN\n",
      "   OGR_VRT: VRT - Virtual Datasource\n",
      "       REC: EPIInfo .REC \n",
      "    Memory: Memory\n",
      "       CSV: Comma Separated Value (.csv)\n",
      "       NAS: NAS - ALKIS\n",
      "       GML: Geography Markup Language (GML)\n",
      "       GPX: GPX\n",
      "    LIBKML: Keyhole Markup Language (LIBKML)\n",
      "       KML: Keyhole Markup Language (KML)\n",
      "   GeoJSON: GeoJSON\n",
      "GeoJSONSeq: GeoJSON Sequence\n",
      "  ESRIJSON: ESRIJSON\n",
      "  TopoJSON: TopoJSON\n",
      "   OGR_GMT: GMT ASCII Vectors (.gmt)\n",
      "      GPKG: GeoPackage\n",
      "    SQLite: SQLite / Spatialite\n",
      "      ODBC: ODBC\n",
      "      WAsP: WAsP .map format\n",
      "      PGeo: ESRI Personal GeoDatabase\n",
      "MSSQLSpatial: Microsoft SQL Server Spatial Database\n",
      "PostgreSQL: PostgreSQL/PostGIS\n",
      "OpenFileGDB: ESRI FileGDB\n",
      "       DXF: AutoCAD DXF\n",
      "       CAD: AutoCAD Driver\n",
      "FlatGeobuf: FlatGeobuf\n",
      "Geoconcept: Geoconcept\n",
      "    GeoRSS: GeoRSS\n",
      "GPSTrackMaker: GPSTrackMaker\n",
      "       VFK: Czech Cadastral Exchange Data Format\n",
      "    PGDUMP: PostgreSQL SQL dump\n",
      "       OSM: OpenStreetMap XML and PBF\n",
      "  GPSBabel: GPSBabel\n",
      "   OGR_PDS: Planetary Data Systems TABLE\n",
      "       WFS: OGC WFS (Web Feature Service)\n",
      "     OAPIF: OGC API - Features\n",
      "  Geomedia: Geomedia .mdb\n",
      "    EDIGEO: French EDIGEO exchange format\n",
      "       SVG: Scalable Vector Graphics\n",
      "   CouchDB: CouchDB / GeoCouch\n",
      "  Cloudant: Cloudant / CouchDB\n",
      "    Idrisi: Idrisi Vector (.vct)\n",
      "    ARCGEN: Arc/Info Generate\n",
      "       XLS: MS Excel format\n",
      "       ODS: Open Document/ LibreOffice / OpenOffice Spreadsheet \n",
      "      XLSX: MS Office Open XML spreadsheet\n",
      "Elasticsearch: Elastic Search\n",
      "      Walk: Walk\n",
      "     Carto: Carto\n",
      "AmigoCloud: AmigoCloud\n",
      "       SXF: Storage and eXchange Format\n",
      "   Selafin: Selafin\n",
      "       JML: OpenJUMP JML\n",
      "  PLSCENES: Planet Labs Scenes API\n",
      "       CSW: OGC CSW (Catalog  Service for the Web)\n",
      "       VDV: VDV-451/VDV-452/INTREST Data Format\n",
      "     GMLAS: Geography Markup Language (GML) driven by application schemas\n",
      "       MVT: Mapbox Vector Tiles\n",
      "       NGW: NextGIS Web\n",
      "     MapML: MapML\n",
      "     TIGER: U.S. Census TIGER/Line\n",
      "    AVCBin: Arc/Info Binary Coverage\n",
      "    AVCE00: Arc/Info E00 (ASCII) Coverage\n",
      "    GenBin: Generic Binary (.hdr Labelled)\n",
      "      ENVI: ENVI .hdr Labelled\n",
      "      EHdr: ESRI .hdr Labelled\n",
      "      ISCE: ISCE raster\n",
      "      HTTP: HTTP Fetching Wrapper\n"
     ]
    }
   ],
   "source": [
    "#查看GDAL支持的读取格式\n",
    "drv_count = gdal.GetDriverCount()\n",
    "for idx in range(drv_count):\n",
    "    driver = gdal.GetDriver(idx)\n",
    "    print( \"%10s: %s\" % (driver.ShortName, driver.LongName))"
   ]
  },
  {
   "cell_type": "code",
   "execution_count": 3,
   "id": "b82a4ee1-4e82-4dfb-a121-56ae2d69bba3",
   "metadata": {},
   "outputs": [
    {
     "data": {
      "text/plain": [
       "213"
      ]
     },
     "execution_count": 3,
     "metadata": {},
     "output_type": "execute_result"
    }
   ],
   "source": [
    "driver = gdal.GetDriverByName('ENVI')\n",
    "driver.Register()"
   ]
  },
  {
   "cell_type": "code",
   "execution_count": 4,
   "id": "f8ffefab-d2aa-4443-b68e-74f3d26bf29f",
   "metadata": {
    "tags": []
   },
   "outputs": [
    {
     "data": {
      "text/plain": [
       "{'Band_1': 'Coastal aerosol (0.443000 Micrometers)',\n",
       " 'Band_2': 'Blue (0.482600 Micrometers)',\n",
       " 'Band_3': 'Green (0.561300 Micrometers)',\n",
       " 'Band_4': 'Red (0.654600 Micrometers)',\n",
       " 'Band_5': 'Near Infrared (NIR (0.864600 Micrometers)',\n",
       " 'Band_6': 'SWIR 1 (1.609000 Micrometers)',\n",
       " 'Band_7': 'SWIR 2 (2.201000 Micrometers)',\n",
       " 'wavelength_units': 'Micrometers'}"
      ]
     },
     "execution_count": 4,
     "metadata": {},
     "output_type": "execute_result"
    }
   ],
   "source": [
    "# 数据文件\n",
    "test_file = 'data/Landsat8_OLI_multi.dat'\n",
    "dataset = gdal.Open(test_file)\n",
    "dataset.GetMetadata()"
   ]
  },
  {
   "cell_type": "code",
   "execution_count": 5,
   "id": "64c6a5c4-82df-4b5e-ac21-4f44671141a7",
   "metadata": {},
   "outputs": [
    {
     "name": "stdout",
     "output_type": "stream",
     "text": [
      "行：395，列：397\n"
     ]
    }
   ],
   "source": [
    "img_row,img_col = dataset.RasterXSize,dataset.RasterYSize\n",
    "print('行：{}，列：{}'.format(img_row,img_col)) #栅格影像大小"
   ]
  },
  {
   "cell_type": "code",
   "execution_count": 6,
   "id": "4072e1b1-9063-4430-9f82-ea39375ae4e2",
   "metadata": {},
   "outputs": [
    {
     "name": "stdout",
     "output_type": "stream",
     "text": [
      "空间参考：(395865.0, 30.0, -0.0, 3492495.0, -0.0, -30.0)\n"
     ]
    }
   ],
   "source": [
    "geotrans = dataset.GetGeoTransform() #空间参考\n",
    "print('空间参考：{}'.format(geotrans))"
   ]
  },
  {
   "cell_type": "code",
   "execution_count": 7,
   "id": "e1ebedc3-ab9e-4ae9-9203-6e9c2764c712",
   "metadata": {},
   "outputs": [
    {
     "name": "stdout",
     "output_type": "stream",
     "text": [
      "投影信息：PROJCS[\"UTM_Zone_51N\",GEOGCS[\"WGS 84\",DATUM[\"WGS_1984\",SPHEROID[\"WGS 84\",6378137,298.257223563,AUTHORITY[\"EPSG\",\"7030\"]],AUTHORITY[\"EPSG\",\"6326\"]],PRIMEM[\"Greenwich\",0],UNIT[\"Degree\",0.0174532925199433]],PROJECTION[\"Transverse_Mercator\"],PARAMETER[\"latitude_of_origin\",0],PARAMETER[\"central_meridian\",123],PARAMETER[\"scale_factor\",0.9996],PARAMETER[\"false_easting\",500000],PARAMETER[\"false_northing\",0],UNIT[\"Meter\",1],AXIS[\"Easting\",EAST],AXIS[\"Northing\",NORTH]]\n"
     ]
    }
   ],
   "source": [
    "proj = dataset.GetProjection() #空间参考\n",
    "print('投影信息：{}'.format(proj))"
   ]
  },
  {
   "cell_type": "code",
   "execution_count": 8,
   "id": "0508d285-a8b3-4cd9-b371-f8d060efb200",
   "metadata": {},
   "outputs": [
    {
     "name": "stdout",
     "output_type": "stream",
     "text": [
      "波段数：7\n"
     ]
    }
   ],
   "source": [
    "band_count = dataset.RasterCount\n",
    "print('波段数：{}'.format(band_count))"
   ]
  },
  {
   "cell_type": "code",
   "execution_count": null,
   "id": "69b3aee9-deb4-4152-97ed-afa80ea02907",
   "metadata": {},
   "outputs": [],
   "source": [
    "# 生成hdr\n",
    "h1='ENVI'\n",
    "h2='description ={'\n",
    "h3='File Imported into ENVI. }'\n",
    "h4='img_width = '+str(img_row) #列\n",
    "h5='img_height = '+str(img_col) #行\n",
    "h6='bands = '+str(band_count) #波段数\n",
    "h7='header offset = 0'\n",
    "h8='file type = ENVI Standard'\n",
    "h9='data type = 2'\n",
    "h10='interleave = bil'\n",
    "h11='sensor type = Unknown'\n",
    "h12='byte order = 0'\n",
    "h13='wavelength units = Micrometers'\n",
    "h=[h1,h2,h3,h4,h5,h6,h7,h8,h9,h10,h11,h12,h13]\n",
    "doc = open(output_path+\"/\"+output_name+\".hdr\", 'w')   \n",
    "for i in range (0,11):\n",
    "    print(h[i], end='', file=doc)\n",
    "    print('\\n', end='', file=doc)\n",
    "doc.close()       \n",
    "#输出为同名的hdr头文件，并且此文件要与多波段栅格文件在一个文件夹里面。\n",
    "\n"
   ]
  }
 ],
 "metadata": {
  "kernelspec": {
   "display_name": "Python 3",
   "language": "python",
   "name": "python3"
  },
  "language_info": {
   "codemirror_mode": {
    "name": "ipython",
    "version": 3
   },
   "file_extension": ".py",
   "mimetype": "text/x-python",
   "name": "python",
   "nbconvert_exporter": "python",
   "pygments_lexer": "ipython3",
   "version": "3.8.11"
  }
 },
 "nbformat": 4,
 "nbformat_minor": 5
}
