{
 "cells": [
  {
   "cell_type": "markdown",
   "id": "f5428ad0-e49b-4b08-9846-17c3ca271887",
   "metadata": {},
   "source": [
    "## 实验操作2.3  读取可交互的在线影像 基于GEE API\n",
    "* 实验目的：通过GEE API获取在线影像\n",
    "* 实验数据：\n",
    "    * Landsat影像，以及可交互的地图界面（只能使用jupyter lab或者jupyter notebook运行脚本）\n",
    "* Code: 赵涔良"
   ]
  },
  {
   "cell_type": "code",
   "execution_count": 1,
   "id": "aa6ec075-aa69-4044-b7b7-0af9413c291c",
   "metadata": {},
   "outputs": [],
   "source": [
    "import os \n",
    "os.environ ['HTTP_PROXY'] ='http://127.0.0.1:7890' #设置VPN的本地代理端口，示例为端口：7890\n",
    "os.environ ['HTTPS_PROXY'] ='http://127.0.0.1:7890'"
   ]
  },
  {
   "cell_type": "code",
   "execution_count": 2,
   "id": "c384b2a3-7c62-4edb-b0f3-ff435fd9bb17",
   "metadata": {},
   "outputs": [],
   "source": [
    "import ee\n",
    "import geemap"
   ]
  },
  {
   "cell_type": "code",
   "execution_count": 3,
   "id": "8f3655d1-75f6-43e7-98c9-33eb51d8efbb",
   "metadata": {},
   "outputs": [
    {
     "data": {
      "application/vnd.jupyter.widget-view+json": {
       "model_id": "699eb600f5ce45338249c59a50049d93",
       "version_major": 2,
       "version_minor": 0
      },
      "text/plain": [
       "Map(center=[40, -100], controls=(WidgetControl(options=['position', 'transparent_bg'], widget=HBox(children=(T…"
      ]
     },
     "metadata": {},
     "output_type": "display_data"
    }
   ],
   "source": [
    "Map = geemap.Map(center=[40,-100], zoom=4)\n",
    "Map"
   ]
  },
  {
   "cell_type": "code",
   "execution_count": 7,
   "id": "4ee5166b-0767-467c-bbd1-7ef5d84c0450",
   "metadata": {},
   "outputs": [],
   "source": [
    "# 加载影像\n",
    "image = ee.Image('LANDSAT/LC08/C01/T1/LC08_042034_20170616')\n",
    "\n",
    "# 设置交互界面的中心点\n",
    "Map.centerObject(image, 8)\n",
    "\n",
    "# 展示结果\n",
    "Map.addLayer(image, {}, 'Landsat 8 original image')\n",
    "\n",
    "# 假彩色显示\n",
    "vizParams = {'bands': ['B5', 'B4', 'B3'],\n",
    "             'min': 5000, 'max': 15000, 'gamma': 1.3}\n",
    "\n",
    "# 设置交互界面的中心点并展示\n",
    "Map.centerObject(image, 8)\n",
    "Map.addLayer(image, vizParams, 'Landsat 8 False color')\n",
    "\n",
    "# 添加地图要素\n",
    "counties = ee.FeatureCollection('TIGER/2016/Counties')\n",
    "Map.addLayer(ee.Image().paint(counties, 0, 2), {}, 'counties')"
   ]
  }
 ],
 "metadata": {
  "kernelspec": {
   "display_name": "Python 3",
   "language": "python",
   "name": "python3"
  },
  "language_info": {
   "codemirror_mode": {
    "name": "ipython",
    "version": 3
   },
   "file_extension": ".py",
   "mimetype": "text/x-python",
   "name": "python",
   "nbconvert_exporter": "python",
   "pygments_lexer": "ipython3",
   "version": "3.8.11"
  }
 },
 "nbformat": 4,
 "nbformat_minor": 5
}
